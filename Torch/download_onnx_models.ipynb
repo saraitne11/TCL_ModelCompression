{
 "cells": [
  {
   "cell_type": "code",
   "execution_count": 1,
   "id": "5f04687f",
   "metadata": {},
   "outputs": [],
   "source": [
    "import torch\n",
    "import torchvision\n",
    "import torchvision.transforms as transforms\n",
    "\n",
    "import os"
   ]
  },
  {
   "cell_type": "code",
   "execution_count": 2,
   "id": "44365cd9",
   "metadata": {},
   "outputs": [
    {
     "name": "stdout",
     "output_type": "stream",
     "text": [
      "cuda:0\n"
     ]
    }
   ],
   "source": [
    "device = torch.device('cuda:0' if torch.cuda.is_available() else 'cpu')\n",
    "print(device)"
   ]
  },
  {
   "cell_type": "code",
   "execution_count": 3,
   "id": "f0405ddd",
   "metadata": {},
   "outputs": [],
   "source": [
    "FLASK_MODEL_DIR = './Flask/Models'\n",
    "TRITON_MODEL_DIR = './Triton/Models'\n",
    "\n",
    "TRITON_CONFIG_FILE = 'config.pbtxt'\n",
    "TRITON_MODEL_FILE = 'model.onnx'\n",
    "\n",
    "os.makedirs(FLASK_MODEL_DIR, exist_ok=True)\n",
    "os.makedirs(TRITON_MODEL_DIR, exist_ok=True)"
   ]
  },
  {
   "cell_type": "code",
   "execution_count": 4,
   "id": "9ec9ad9d",
   "metadata": {},
   "outputs": [],
   "source": [
    "def save_flask_model(model, model_name, input_size):\n",
    "    path = os.path.join(FLASK_MODEL_DIR, model_name + '.onnx')\n",
    "    torch.onnx.export(model,\n",
    "                      torch.randn(*input_size).to(device),\n",
    "                      path,                                          # 모델 저장 경로\n",
    "                      export_params=True,                            # 가중치 저장 여부\n",
    "                      input_names=['input_0'],                       # 모델 입력값 이름\n",
    "                      output_names=['output_0'],                     # 모델 출력값 이름\n",
    "                      dynamic_axes={'input_0': {0: 'batch_size'},    # 가변 길이 차원\n",
    "                                    'output_0': {0: 'batch_size'}})\n",
    "    print(path)\n",
    "    return"
   ]
  },
  {
   "cell_type": "code",
   "execution_count": 5,
   "id": "dbeb2ca0",
   "metadata": {},
   "outputs": [],
   "source": [
    "def save_triton_model(model, config, model_name, input_size):\n",
    "    path = os.path.join(TRITON_MODEL_DIR, model_name, TRITON_CONFIG_FILE)\n",
    "    os.makedirs(os.path.dirname(path), exist_ok=True)\n",
    "    with open(path, 'w') as f:\n",
    "        f.write(config.strip())\n",
    "    print(path)\n",
    "    \n",
    "    path = os.path.join(TRITON_MODEL_DIR, model_name, '1', TRITON_MODEL_FILE)\n",
    "    os.makedirs(os.path.dirname(path), exist_ok=True)\n",
    "    torch.onnx.export(model,\n",
    "                      torch.randn(*input_size).to(device),\n",
    "                      path,                                          # 모델 저장 경로\n",
    "                      export_params=True,                            # 가중치 저장 여부\n",
    "                      input_names=['input_0'],                       # 모델 입력값 이름\n",
    "                      output_names=['output_0'],                     # 모델 출력값 이름\n",
    "                      dynamic_axes={'input_0': {0: 'batch_size'},    # 가변 길이 차원\n",
    "                                    'output_0': {0: 'batch_size'}})\n",
    "    print(path)\n",
    "    return"
   ]
  },
  {
   "cell_type": "code",
   "execution_count": 6,
   "id": "5ac28c06",
   "metadata": {},
   "outputs": [
    {
     "name": "stdout",
     "output_type": "stream",
     "text": [
      "./Flask/Models/resnet152-onnx.onnx\n",
      "./Triton/Models/resnet152-onnx/config.pbtxt\n",
      "./Triton/Models/resnet152-onnx/1/model.onnx\n"
     ]
    }
   ],
   "source": [
    "model_name = 'resnet152-onnx'\n",
    "\n",
    "model = torchvision.models.resnet152(pretrained=True)\n",
    "model = model.to(device)\n",
    "model = model.eval()\n",
    "\n",
    "input_size = (1, 3, 224, 224)\n",
    "triton_config = \"\"\"\n",
    "platform: \"onnxruntime_onnx\"\n",
    "max_batch_size: 32\n",
    "input [\n",
    " {\n",
    "    name: \"input_0\"\n",
    "    data_type: TYPE_FP32\n",
    "    format: FORMAT_NCHW\n",
    "    dims: [ 3, 224, 224 ]\n",
    "  }\n",
    "]\n",
    "output {\n",
    "    name: \"output_0\"\n",
    "    data_type: TYPE_FP32\n",
    "    dims: [ 1000 ]\n",
    "  }\n",
    "\"\"\"\n",
    "\n",
    "save_flask_model(model, model_name, input_size)\n",
    "save_triton_model(model, triton_config, model_name, input_size)"
   ]
  },
  {
   "cell_type": "code",
   "execution_count": 7,
   "id": "d03bdf5e",
   "metadata": {},
   "outputs": [
    {
     "name": "stdout",
     "output_type": "stream",
     "text": [
      "./Flask/Models/densenet201-onnx.onnx\n",
      "./Triton/Models/densenet201-onnx/config.pbtxt\n",
      "./Triton/Models/densenet201-onnx/1/model.onnx\n"
     ]
    }
   ],
   "source": [
    "model_name = 'densenet201-onnx'\n",
    "\n",
    "model = torchvision.models.densenet201(pretrained=True)\n",
    "model = model.to(device)\n",
    "model = model.eval()\n",
    "\n",
    "input_size = (1, 3, 224, 224)\n",
    "triton_config = \"\"\"\n",
    "platform: \"onnxruntime_onnx\"\n",
    "max_batch_size: 32\n",
    "input [\n",
    " {\n",
    "    name: \"input_0\"\n",
    "    data_type: TYPE_FP32\n",
    "    format: FORMAT_NCHW\n",
    "    dims: [ 3, 224, 224 ]\n",
    "  }\n",
    "]\n",
    "output {\n",
    "    name: \"output_0\"\n",
    "    data_type: TYPE_FP32\n",
    "    dims: [ 1000 ]\n",
    "  }\n",
    "\"\"\"\n",
    "\n",
    "save_flask_model(model, model_name, input_size)\n",
    "save_triton_model(model, triton_config, model_name, input_size)"
   ]
  },
  {
   "cell_type": "code",
   "execution_count": 8,
   "id": "53ad4e6d",
   "metadata": {},
   "outputs": [
    {
     "name": "stdout",
     "output_type": "stream",
     "text": [
      "./Flask/Models/mobilenet_v2-onnx.onnx\n",
      "./Triton/Models/mobilenet_v2-onnx/config.pbtxt\n",
      "./Triton/Models/mobilenet_v2-onnx/1/model.onnx\n"
     ]
    }
   ],
   "source": [
    "model_name = 'mobilenet_v2-onnx'\n",
    "\n",
    "model = torchvision.models.mobilenet_v2(pretrained=True)\n",
    "model = model.to(device)\n",
    "model = model.eval()\n",
    "\n",
    "input_size = (1, 3, 224, 224)\n",
    "triton_config = \"\"\"\n",
    "platform: \"onnxruntime_onnx\"\n",
    "max_batch_size: 32\n",
    "input [\n",
    " {\n",
    "    name: \"input_0\"\n",
    "    data_type: TYPE_FP32\n",
    "    format: FORMAT_NCHW\n",
    "    dims: [ 3, 224, 224 ]\n",
    "  }\n",
    "]\n",
    "output {\n",
    "    name: \"output_0\"\n",
    "    data_type: TYPE_FP32\n",
    "    dims: [ 1000 ]\n",
    "  }\n",
    "\"\"\"\n",
    "\n",
    "save_flask_model(model, model_name, input_size)\n",
    "save_triton_model(model, triton_config, model_name, input_size)"
   ]
  },
  {
   "cell_type": "code",
   "execution_count": 9,
   "id": "01237c71",
   "metadata": {},
   "outputs": [
    {
     "name": "stdout",
     "output_type": "stream",
     "text": [
      "./Flask/Models/efficientnet_b7-onnx.onnx\n",
      "./Triton/Models/efficientnet_b7-onnx/config.pbtxt\n",
      "./Triton/Models/efficientnet_b7-onnx/1/model.onnx\n"
     ]
    }
   ],
   "source": [
    "model_name = 'efficientnet_b7-onnx'\n",
    "\n",
    "model = torchvision.models.efficientnet_b7(pretrained=True)\n",
    "model = model.to(device)\n",
    "model = model.eval()\n",
    "\n",
    "input_size = (1, 3, 600, 600)\n",
    "triton_config = \"\"\"\n",
    "platform: \"onnxruntime_onnx\"\n",
    "max_batch_size: 32\n",
    "input [\n",
    " {\n",
    "    name: \"input_0\"\n",
    "    data_type: TYPE_FP32\n",
    "    format: FORMAT_NCHW\n",
    "    dims: [ 3, 600, 600 ]\n",
    "  }\n",
    "]\n",
    "output {\n",
    "    name: \"output_0\"\n",
    "    data_type: TYPE_FP32\n",
    "    dims: [ 1000 ]\n",
    "  }\n",
    "\"\"\"\n",
    "\n",
    "save_flask_model(model, model_name, input_size)\n",
    "save_triton_model(model, triton_config, model_name, input_size)"
   ]
  }
 ],
 "metadata": {
  "kernelspec": {
   "display_name": "tcl",
   "language": "python",
   "name": "tcl"
  },
  "language_info": {
   "codemirror_mode": {
    "name": "ipython",
    "version": 3
   },
   "file_extension": ".py",
   "mimetype": "text/x-python",
   "name": "python",
   "nbconvert_exporter": "python",
   "pygments_lexer": "ipython3",
   "version": "3.8.13"
  }
 },
 "nbformat": 4,
 "nbformat_minor": 5
}
