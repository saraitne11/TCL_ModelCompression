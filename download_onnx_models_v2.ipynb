{
 "cells": [
  {
   "cell_type": "code",
   "execution_count": 1,
   "id": "9808e72e",
   "metadata": {},
   "outputs": [],
   "source": [
    "import torch\n",
    "import torchvision\n",
    "import torchvision.transforms as transforms\n",
    "\n",
    "import os"
   ]
  },
  {
   "cell_type": "markdown",
   "id": "3253863a",
   "metadata": {},
   "source": [
    "* ONNX 파일의 Input size 변경하여 모델 및 config 수정 필요\n",
    "* .onnx파일을 이용해 trt 모델 생성 (64, 128 ,256, 512, 1024)"
   ]
  },
  {
   "cell_type": "code",
   "execution_count": 2,
   "id": "44365cd9",
   "metadata": {},
   "outputs": [
    {
     "name": "stdout",
     "output_type": "stream",
     "text": [
      "cuda:0\n"
     ]
    }
   ],
   "source": [
    "device = torch.device('cuda:0' if torch.cuda.is_available() else 'cpu')\n",
    "print(device)"
   ]
  },
  {
   "cell_type": "code",
   "execution_count": 9,
   "id": "f0405ddd",
   "metadata": {},
   "outputs": [],
   "source": [
    "SCRIPT_MODEL_DIR = './Flask/Models'\n",
    "\n",
    "FLASK_MODEL_DIR = './Flask/Models'\n",
    "TRITON_MODEL_DIR = './Triton/Models'\n",
    "\n",
    "TRITON_CONFIG_FILE = 'config.pbtxt'\n",
    "TRITON_MODEL_FILE = 'model.onnx'\n",
    "\n",
    "os.makedirs(FLASK_MODEL_DIR, exist_ok=True)\n",
    "os.makedirs(TRITON_MODEL_DIR, exist_ok=True)"
   ]
  },
  {
   "cell_type": "code",
   "execution_count": 10,
   "id": "9ec9ad9d",
   "metadata": {},
   "outputs": [],
   "source": [
    "def save_flask_model(model, model_name, input_size):\n",
    "    path = os.path.join(FLASK_MODEL_DIR, model_name + '.onnx')\n",
    "    torch.onnx.export(model,\n",
    "                      torch.randn(*input_size).to(device),\n",
    "                      path,                                          # 모델 저장 경로\n",
    "                      export_params=True,                            # 가중치 저장 여부\n",
    "                      input_names=['input__0'],                       # 모델 입력값 이름\n",
    "                      output_names=['output__0'],                     # 모델 출력값 이름\n",
    "                      dynamic_axes={'input__0': {0: 'batch_size'},    # 가변 길이 차원\n",
    "                                    'output__0': {0: 'batch_size'}})\n",
    "    print(path)\n",
    "    return"
   ]
  },
  {
   "cell_type": "code",
   "execution_count": 11,
   "id": "dbeb2ca0",
   "metadata": {},
   "outputs": [],
   "source": [
    "def save_triton_model(model, config, model_name, input_size):\n",
    "    path = os.path.join(TRITON_MODEL_DIR, model_name, TRITON_CONFIG_FILE)\n",
    "    os.makedirs(os.path.dirname(path), exist_ok=True)\n",
    "    with open(path, 'w') as f:\n",
    "        f.write(config.strip())\n",
    "    print(path)\n",
    "    \n",
    "    path = os.path.join(TRITON_MODEL_DIR, model_name, '1', TRITON_MODEL_FILE)\n",
    "    os.makedirs(os.path.dirname(path), exist_ok=True)\n",
    "    torch.onnx.export(model,\n",
    "                      torch.randn(*input_size).to(device),\n",
    "                      path,                                          # 모델 저장 경로\n",
    "                      export_params=True,                            # 가중치 저장 여부\n",
    "                      input_names=['input__0'],                       # 모델 입력값 이름\n",
    "                      output_names=['output__0'],                     # 모델 출력값 이름\n",
    "                      dynamic_axes={'input__0': {0: 'batch_size'},    # 가변 길이 차원\n",
    "                                    'output__0': {0: 'batch_size'}})\n",
    "    print(path)\n",
    "    return"
   ]
  },
  {
   "cell_type": "code",
   "execution_count": 6,
   "id": "5ac28c06",
   "metadata": {},
   "outputs": [
    {
     "name": "stderr",
     "output_type": "stream",
     "text": [
      "/usr/local/lib/python3.6/dist-packages/torch/onnx/utils.py:356: UserWarning: Model has no forward function\n",
      "  warnings.warn(\"Model has no forward function\")\n"
     ]
    },
    {
     "name": "stdout",
     "output_type": "stream",
     "text": [
      "./Flask/Models/resnet34-onnx-64.onnx\n",
      "./Triton/Models/resnet34-onnx-64/config.pbtxt\n",
      "./Triton/Models/resnet34-onnx-64/1/model.onnx\n"
     ]
    }
   ],
   "source": [
    "model_name = 'resnet34-onnx-64'\n",
    "script_model_name = 'resnet34-script.pt'\n",
    "\n",
    "model_file = os.path.join(SCRIPT_MODEL_DIR, script_model_name)\n",
    "model = torch.jit.load(model_file)\n",
    "model = model.to(device)\n",
    "model = model.eval()\n",
    "\n",
    "input_size = (1, 3, 64, 64)\n",
    "triton_config = \"\"\"\n",
    "platform: \"onnxruntime_onnx\"\n",
    "max_batch_size: 32\n",
    "input [\n",
    " {\n",
    "    name: \"input__0\"\n",
    "    data_type: TYPE_FP32\n",
    "    format: FORMAT_NCHW\n",
    "    dims: [ 3, 64, 64 ]\n",
    "  }\n",
    "]\n",
    "output {\n",
    "    name: \"output__0\"\n",
    "    data_type: TYPE_FP32\n",
    "    dims: [ 1000 ]\n",
    "  }\n",
    "\"\"\"\n",
    "\n",
    "save_flask_model(model, model_name, input_size)\n",
    "save_triton_model(model, triton_config, model_name, input_size)"
   ]
  },
  {
   "cell_type": "code",
   "execution_count": 7,
   "id": "4c3be8a4",
   "metadata": {},
   "outputs": [
    {
     "name": "stdout",
     "output_type": "stream",
     "text": [
      "./Flask/Models/resnet34-onnx-128.onnx\n",
      "./Triton/Models/resnet34-onnx-128/config.pbtxt\n",
      "./Triton/Models/resnet34-onnx-128/1/model.onnx\n"
     ]
    }
   ],
   "source": [
    "model_name = 'resnet34-onnx-128'\n",
    "script_model_name = 'resnet34-script.pt'\n",
    "\n",
    "model_file = os.path.join(SCRIPT_MODEL_DIR, script_model_name)\n",
    "model = torch.jit.load(model_file)\n",
    "model = model.to(device)\n",
    "model = model.eval()\n",
    "\n",
    "input_size = (1, 3, 128, 128)\n",
    "triton_config = \"\"\"\n",
    "platform: \"onnxruntime_onnx\"\n",
    "max_batch_size: 32\n",
    "input [\n",
    " {\n",
    "    name: \"input__0\"\n",
    "    data_type: TYPE_FP32\n",
    "    format: FORMAT_NCHW\n",
    "    dims: [ 3, 128, 128 ]\n",
    "  }\n",
    "]\n",
    "output {\n",
    "    name: \"output__0\"\n",
    "    data_type: TYPE_FP32\n",
    "    dims: [ 1000 ]\n",
    "  }\n",
    "\"\"\"\n",
    "\n",
    "save_flask_model(model, model_name, input_size)\n",
    "save_triton_model(model, triton_config, model_name, input_size)"
   ]
  },
  {
   "cell_type": "code",
   "execution_count": 8,
   "id": "d31c9bb6",
   "metadata": {},
   "outputs": [
    {
     "name": "stdout",
     "output_type": "stream",
     "text": [
      "./Flask/Models/resnet34-onnx-256.onnx\n",
      "./Triton/Models/resnet34-onnx-256/config.pbtxt\n",
      "./Triton/Models/resnet34-onnx-256/1/model.onnx\n"
     ]
    }
   ],
   "source": [
    "model_name = 'resnet34-onnx-256'\n",
    "script_model_name = 'resnet34-script.pt'\n",
    "\n",
    "model_file = os.path.join(SCRIPT_MODEL_DIR, script_model_name)\n",
    "model = torch.jit.load(model_file)\n",
    "model = model.to(device)\n",
    "model = model.eval()\n",
    "\n",
    "input_size = (1, 3, 256, 256)\n",
    "triton_config = \"\"\"\n",
    "platform: \"onnxruntime_onnx\"\n",
    "max_batch_size: 32\n",
    "input [\n",
    " {\n",
    "    name: \"input__0\"\n",
    "    data_type: TYPE_FP32\n",
    "    format: FORMAT_NCHW\n",
    "    dims: [ 3, 256, 256 ]\n",
    "  }\n",
    "]\n",
    "output {\n",
    "    name: \"output__0\"\n",
    "    data_type: TYPE_FP32\n",
    "    dims: [ 1000 ]\n",
    "  }\n",
    "\"\"\"\n",
    "\n",
    "\n",
    "save_flask_model(model, model_name, input_size)\n",
    "save_triton_model(model, triton_config, model_name, input_size)"
   ]
  },
  {
   "cell_type": "code",
   "execution_count": null,
   "id": "033981a3",
   "metadata": {},
   "outputs": [],
   "source": [
    "model_name = 'resnet34-onnx-512'\n",
    "script_model_name = 'resnet34-script.pt'\n",
    "\n",
    "model_file = os.path.join(SCRIPT_MODEL_DIR, script_model_name)\n",
    "model = torch.jit.load(model_file)\n",
    "model = model.to(device)\n",
    "model = model.eval()\n",
    "\n",
    "input_size = (1, 3, 512, 512)\n",
    "triton_config = \"\"\"\n",
    "platform: \"onnxruntime_onnx\"\n",
    "max_batch_size: 32\n",
    "input [\n",
    " {\n",
    "    name: \"input__0\"\n",
    "    data_type: TYPE_FP32\n",
    "    format: FORMAT_NCHW\n",
    "    dims: [ 3, 512, 512 ]\n",
    "  }\n",
    "]\n",
    "output {\n",
    "    name: \"output__0\"\n",
    "    data_type: TYPE_FP32\n",
    "    dims: [ 1000 ]\n",
    "  }\n",
    "\"\"\"\n",
    "\n",
    "save_flask_model(model, model_name, input_size)\n",
    "save_triton_model(model, triton_config, model_name, input_size)"
   ]
  },
  {
   "cell_type": "code",
   "execution_count": null,
   "id": "6ebd7760",
   "metadata": {},
   "outputs": [],
   "source": [
    "model_name = 'resnet34-onnx-1024'\n",
    "script_model_name = 'resnet34-script.pt'\n",
    "\n",
    "model_file = os.path.join(SCRIPT_MODEL_DIR, script_model_name)\n",
    "model = torch.jit.load(model_file)\n",
    "model = model.to(device)\n",
    "model = model.eval()\n",
    "\n",
    "input_size = (1, 3, 1024, 1024)\n",
    "triton_config = \"\"\"\n",
    "platform: \"onnxruntime_onnx\"\n",
    "max_batch_size: 32\n",
    "input [\n",
    " {\n",
    "    name: \"input__0\"\n",
    "    data_type: TYPE_FP32\n",
    "    format: FORMAT_NCHW\n",
    "    dims: [ 3, 1024, 1024 ]\n",
    "  }\n",
    "]\n",
    "output {\n",
    "    name: \"output__0\"\n",
    "    data_type: TYPE_FP32\n",
    "    dims: [ 1000 ]\n",
    "  }\n",
    "\"\"\"\n",
    "\n",
    "save_flask_model(model, model_name, input_size)\n",
    "save_triton_model(model, triton_config, model_name, input_size)"
   ]
  },
  {
   "cell_type": "code",
   "execution_count": null,
   "id": "4cfb144b",
   "metadata": {},
   "outputs": [],
   "source": []
  },
  {
   "cell_type": "code",
   "execution_count": null,
   "id": "ee30401e",
   "metadata": {},
   "outputs": [],
   "source": []
  },
  {
   "cell_type": "code",
   "execution_count": 7,
   "id": "53ad4e6d",
   "metadata": {},
   "outputs": [
    {
     "name": "stdout",
     "output_type": "stream",
     "text": [
      "./Flask/Models/mobilenet_v2-onnx.onnx\n",
      "./Triton/Models/mobilenet_v2-onnx/config.pbtxt\n",
      "./Triton/Models/mobilenet_v2-onnx/1/model.onnx\n"
     ]
    }
   ],
   "source": [
    "model_name = 'mobilenet_v2-onnx'\n",
    "script_model_name = 'mobilenet_v2-script.pt'\n",
    "\n",
    "model_file = os.path.join(SCRIPT_MODEL_DIR, script_model_name)\n",
    "model = torch.jit.load(model_file)\n",
    "model = model.to(device)\n",
    "model = model.eval()\n",
    "\n",
    "input_size = (1, 3, 224, 224)\n",
    "triton_config = \"\"\"\n",
    "platform: \"onnxruntime_onnx\"\n",
    "max_batch_size: 32\n",
    "input [\n",
    " {\n",
    "    name: \"input__0\"\n",
    "    data_type: TYPE_FP32\n",
    "    format: FORMAT_NCHW\n",
    "    dims: [ 3, 224, 224 ]\n",
    "  }\n",
    "]\n",
    "output {\n",
    "    name: \"output__0\"\n",
    "    data_type: TYPE_FP32\n",
    "    dims: [ 1000 ]\n",
    "  }\n",
    "\"\"\"\n",
    "\n",
    "save_flask_model(model, model_name, input_size)\n",
    "save_triton_model(model, triton_config, model_name, input_size)"
   ]
  },
  {
   "cell_type": "code",
   "execution_count": 8,
   "id": "fbfa12c5",
   "metadata": {},
   "outputs": [
    {
     "name": "stdout",
     "output_type": "stream",
     "text": [
      "./Flask/Models/efficientnet_b0-onnx.onnx\n",
      "./Triton/Models/efficientnet_b0-onnx/config.pbtxt\n",
      "./Triton/Models/efficientnet_b0-onnx/1/model.onnx\n"
     ]
    }
   ],
   "source": [
    "model_name = 'efficientnet_b0-onnx'\n",
    "script_model_name = 'efficientnet_b0-script.pt'\n",
    "\n",
    "model_file = os.path.join(SCRIPT_MODEL_DIR, script_model_name)\n",
    "model = torch.jit.load(model_file)\n",
    "model = model.to(device)\n",
    "model = model.eval()\n",
    "\n",
    "input_size = (1, 3, 224, 224)\n",
    "triton_config = \"\"\"\n",
    "platform: \"onnxruntime_onnx\"\n",
    "max_batch_size: 32\n",
    "input [\n",
    " {\n",
    "    name: \"input__0\"\n",
    "    data_type: TYPE_FP32\n",
    "    format: FORMAT_NCHW\n",
    "    dims: [ 3, 224, 224 ]\n",
    "  }\n",
    "]\n",
    "output {\n",
    "    name: \"output__0\"\n",
    "    data_type: TYPE_FP32\n",
    "    dims: [ 1000 ]\n",
    "  }\n",
    "\"\"\"\n",
    "\n",
    "save_flask_model(model, model_name, input_size)\n",
    "save_triton_model(model, triton_config, model_name, input_size)"
   ]
  },
  {
   "cell_type": "code",
   "execution_count": null,
   "id": "01237c71",
   "metadata": {},
   "outputs": [],
   "source": [
    "model_name = 'efficientnet_b7-onnx'\n",
    "script_model_name = 'efficientnet_b7-script.pt'\n",
    "\n",
    "model_file = os.path.join(SCRIPT_MODEL_DIR, script_model_name)\n",
    "model = torch.jit.load(model_file)\n",
    "model = model.to(device)\n",
    "model = model.eval()\n",
    "\n",
    "input_size = (1, 3, 600, 600)\n",
    "triton_config = \"\"\"\n",
    "platform: \"onnxruntime_onnx\"\n",
    "max_batch_size: 32\n",
    "input [\n",
    " {\n",
    "    name: \"input__0\"\n",
    "    data_type: TYPE_FP32\n",
    "    format: FORMAT_NCHW\n",
    "    dims: [ 3, 600, 600 ]\n",
    "  }\n",
    "]\n",
    "output {\n",
    "    name: \"output__0\"\n",
    "    data_type: TYPE_FP32\n",
    "    dims: [ 1000 ]\n",
    "  }\n",
    "\"\"\"\n",
    "\n",
    "save_flask_model(model, model_name, input_size)\n",
    "save_triton_model(model, triton_config, model_name, input_size)"
   ]
  },
  {
   "cell_type": "code",
   "execution_count": null,
   "id": "c34c2f08",
   "metadata": {},
   "outputs": [],
   "source": []
  }
 ],
 "metadata": {
  "kernelspec": {
   "display_name": "Python 3",
   "language": "python",
   "name": "python3"
  },
  "language_info": {
   "codemirror_mode": {
    "name": "ipython",
    "version": 3
   },
   "file_extension": ".py",
   "mimetype": "text/x-python",
   "name": "python",
   "nbconvert_exporter": "python",
   "pygments_lexer": "ipython3",
   "version": "3.6.9"
  }
 },
 "nbformat": 4,
 "nbformat_minor": 5
}
