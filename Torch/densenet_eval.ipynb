{
 "cells": [
  {
   "cell_type": "code",
   "execution_count": 1,
   "id": "bb12d101",
   "metadata": {},
   "outputs": [],
   "source": [
    "import torch\n",
    "import torchvision\n",
    "import torch.utils.data as data\n",
    "import torchvision.transforms as transforms\n",
    "\n",
    "from torchinfo import summary\n",
    "\n",
    "import numpy as np\n",
    "import time"
   ]
  },
  {
   "cell_type": "code",
   "execution_count": 2,
   "id": "282c5689",
   "metadata": {},
   "outputs": [],
   "source": [
    "IMAGENET_DIR = '/home/data/ImageNet'\n",
    "BATCH_SIZE = 128\n",
    "LOADER_WORKERS = 4"
   ]
  },
  {
   "cell_type": "code",
   "execution_count": 3,
   "id": "39e24d1c",
   "metadata": {},
   "outputs": [
    {
     "name": "stdout",
     "output_type": "stream",
     "text": [
      "cuda:0\n"
     ]
    }
   ],
   "source": [
    "device = torch.device('cuda:0' if torch.cuda.is_available() else 'cpu')\n",
    "print(device)"
   ]
  },
  {
   "cell_type": "code",
   "execution_count": 4,
   "id": "91deb93c",
   "metadata": {
    "scrolled": true
   },
   "outputs": [],
   "source": [
    "w = torchvision.models.densenet.DenseNet201_Weights.IMAGENET1K_V1\n",
    "model = torchvision.models.densenet201(weights=w)\n",
    "model = model.to(device)\n",
    "model = model.eval()"
   ]
  },
  {
   "cell_type": "code",
   "execution_count": 5,
   "id": "98fa29a3",
   "metadata": {
    "scrolled": true
   },
   "outputs": [
    {
     "data": {
      "text/plain": [
       "==========================================================================================\n",
       "Layer (type:depth-idx)                   Output Shape              Param #\n",
       "==========================================================================================\n",
       "DenseNet                                 [128, 1000]               --\n",
       "├─Sequential: 1-1                        [128, 1920, 7, 7]         --\n",
       "│    └─Conv2d: 2-1                       [128, 64, 112, 112]       9,408\n",
       "│    └─BatchNorm2d: 2-2                  [128, 64, 112, 112]       128\n",
       "│    └─ReLU: 2-3                         [128, 64, 112, 112]       --\n",
       "│    └─MaxPool2d: 2-4                    [128, 64, 56, 56]         --\n",
       "│    └─_DenseBlock: 2-5                  [128, 256, 56, 56]        --\n",
       "│    │    └─_DenseLayer: 3-1             [128, 32, 56, 56]         45,440\n",
       "│    │    └─_DenseLayer: 3-2             [128, 32, 56, 56]         49,600\n",
       "│    │    └─_DenseLayer: 3-3             [128, 32, 56, 56]         53,760\n",
       "│    │    └─_DenseLayer: 3-4             [128, 32, 56, 56]         57,920\n",
       "│    │    └─_DenseLayer: 3-5             [128, 32, 56, 56]         62,080\n",
       "│    │    └─_DenseLayer: 3-6             [128, 32, 56, 56]         66,240\n",
       "│    └─_Transition: 2-6                  [128, 128, 28, 28]        --\n",
       "│    │    └─BatchNorm2d: 3-7             [128, 256, 56, 56]        512\n",
       "│    │    └─ReLU: 3-8                    [128, 256, 56, 56]        --\n",
       "│    │    └─Conv2d: 3-9                  [128, 128, 56, 56]        32,768\n",
       "│    │    └─AvgPool2d: 3-10              [128, 128, 28, 28]        --\n",
       "│    └─_DenseBlock: 2-7                  [128, 512, 28, 28]        --\n",
       "│    │    └─_DenseLayer: 3-11            [128, 32, 28, 28]         53,760\n",
       "│    │    └─_DenseLayer: 3-12            [128, 32, 28, 28]         57,920\n",
       "│    │    └─_DenseLayer: 3-13            [128, 32, 28, 28]         62,080\n",
       "│    │    └─_DenseLayer: 3-14            [128, 32, 28, 28]         66,240\n",
       "│    │    └─_DenseLayer: 3-15            [128, 32, 28, 28]         70,400\n",
       "│    │    └─_DenseLayer: 3-16            [128, 32, 28, 28]         74,560\n",
       "│    │    └─_DenseLayer: 3-17            [128, 32, 28, 28]         78,720\n",
       "│    │    └─_DenseLayer: 3-18            [128, 32, 28, 28]         82,880\n",
       "│    │    └─_DenseLayer: 3-19            [128, 32, 28, 28]         87,040\n",
       "│    │    └─_DenseLayer: 3-20            [128, 32, 28, 28]         91,200\n",
       "│    │    └─_DenseLayer: 3-21            [128, 32, 28, 28]         95,360\n",
       "│    │    └─_DenseLayer: 3-22            [128, 32, 28, 28]         99,520\n",
       "│    └─_Transition: 2-8                  [128, 256, 14, 14]        --\n",
       "│    │    └─BatchNorm2d: 3-23            [128, 512, 28, 28]        1,024\n",
       "│    │    └─ReLU: 3-24                   [128, 512, 28, 28]        --\n",
       "│    │    └─Conv2d: 3-25                 [128, 256, 28, 28]        131,072\n",
       "│    │    └─AvgPool2d: 3-26              [128, 256, 14, 14]        --\n",
       "│    └─_DenseBlock: 2-9                  [128, 1792, 14, 14]       --\n",
       "│    │    └─_DenseLayer: 3-27            [128, 32, 14, 14]         70,400\n",
       "│    │    └─_DenseLayer: 3-28            [128, 32, 14, 14]         74,560\n",
       "│    │    └─_DenseLayer: 3-29            [128, 32, 14, 14]         78,720\n",
       "│    │    └─_DenseLayer: 3-30            [128, 32, 14, 14]         82,880\n",
       "│    │    └─_DenseLayer: 3-31            [128, 32, 14, 14]         87,040\n",
       "│    │    └─_DenseLayer: 3-32            [128, 32, 14, 14]         91,200\n",
       "│    │    └─_DenseLayer: 3-33            [128, 32, 14, 14]         95,360\n",
       "│    │    └─_DenseLayer: 3-34            [128, 32, 14, 14]         99,520\n",
       "│    │    └─_DenseLayer: 3-35            [128, 32, 14, 14]         103,680\n",
       "│    │    └─_DenseLayer: 3-36            [128, 32, 14, 14]         107,840\n",
       "│    │    └─_DenseLayer: 3-37            [128, 32, 14, 14]         112,000\n",
       "│    │    └─_DenseLayer: 3-38            [128, 32, 14, 14]         116,160\n",
       "│    │    └─_DenseLayer: 3-39            [128, 32, 14, 14]         120,320\n",
       "│    │    └─_DenseLayer: 3-40            [128, 32, 14, 14]         124,480\n",
       "│    │    └─_DenseLayer: 3-41            [128, 32, 14, 14]         128,640\n",
       "│    │    └─_DenseLayer: 3-42            [128, 32, 14, 14]         132,800\n",
       "│    │    └─_DenseLayer: 3-43            [128, 32, 14, 14]         136,960\n",
       "│    │    └─_DenseLayer: 3-44            [128, 32, 14, 14]         141,120\n",
       "│    │    └─_DenseLayer: 3-45            [128, 32, 14, 14]         145,280\n",
       "│    │    └─_DenseLayer: 3-46            [128, 32, 14, 14]         149,440\n",
       "│    │    └─_DenseLayer: 3-47            [128, 32, 14, 14]         153,600\n",
       "│    │    └─_DenseLayer: 3-48            [128, 32, 14, 14]         157,760\n",
       "│    │    └─_DenseLayer: 3-49            [128, 32, 14, 14]         161,920\n",
       "│    │    └─_DenseLayer: 3-50            [128, 32, 14, 14]         166,080\n",
       "│    │    └─_DenseLayer: 3-51            [128, 32, 14, 14]         170,240\n",
       "│    │    └─_DenseLayer: 3-52            [128, 32, 14, 14]         174,400\n",
       "│    │    └─_DenseLayer: 3-53            [128, 32, 14, 14]         178,560\n",
       "│    │    └─_DenseLayer: 3-54            [128, 32, 14, 14]         182,720\n",
       "│    │    └─_DenseLayer: 3-55            [128, 32, 14, 14]         186,880\n",
       "│    │    └─_DenseLayer: 3-56            [128, 32, 14, 14]         191,040\n",
       "│    │    └─_DenseLayer: 3-57            [128, 32, 14, 14]         195,200\n",
       "│    │    └─_DenseLayer: 3-58            [128, 32, 14, 14]         199,360\n",
       "│    │    └─_DenseLayer: 3-59            [128, 32, 14, 14]         203,520\n",
       "│    │    └─_DenseLayer: 3-60            [128, 32, 14, 14]         207,680\n",
       "│    │    └─_DenseLayer: 3-61            [128, 32, 14, 14]         211,840\n",
       "│    │    └─_DenseLayer: 3-62            [128, 32, 14, 14]         216,000\n",
       "│    │    └─_DenseLayer: 3-63            [128, 32, 14, 14]         220,160\n",
       "│    │    └─_DenseLayer: 3-64            [128, 32, 14, 14]         224,320\n",
       "│    │    └─_DenseLayer: 3-65            [128, 32, 14, 14]         228,480\n",
       "│    │    └─_DenseLayer: 3-66            [128, 32, 14, 14]         232,640\n",
       "│    │    └─_DenseLayer: 3-67            [128, 32, 14, 14]         236,800\n",
       "│    │    └─_DenseLayer: 3-68            [128, 32, 14, 14]         240,960\n",
       "│    │    └─_DenseLayer: 3-69            [128, 32, 14, 14]         245,120\n",
       "│    │    └─_DenseLayer: 3-70            [128, 32, 14, 14]         249,280\n",
       "│    │    └─_DenseLayer: 3-71            [128, 32, 14, 14]         253,440\n",
       "│    │    └─_DenseLayer: 3-72            [128, 32, 14, 14]         257,600\n",
       "│    │    └─_DenseLayer: 3-73            [128, 32, 14, 14]         261,760\n",
       "│    │    └─_DenseLayer: 3-74            [128, 32, 14, 14]         265,920\n",
       "│    └─_Transition: 2-10                 [128, 896, 7, 7]          --\n",
       "│    │    └─BatchNorm2d: 3-75            [128, 1792, 14, 14]       3,584\n",
       "│    │    └─ReLU: 3-76                   [128, 1792, 14, 14]       --\n",
       "│    │    └─Conv2d: 3-77                 [128, 896, 14, 14]        1,605,632\n",
       "│    │    └─AvgPool2d: 3-78              [128, 896, 7, 7]          --\n",
       "│    └─_DenseBlock: 2-11                 [128, 1920, 7, 7]         --\n",
       "│    │    └─_DenseLayer: 3-79            [128, 32, 7, 7]           153,600\n",
       "│    │    └─_DenseLayer: 3-80            [128, 32, 7, 7]           157,760\n",
       "│    │    └─_DenseLayer: 3-81            [128, 32, 7, 7]           161,920\n",
       "│    │    └─_DenseLayer: 3-82            [128, 32, 7, 7]           166,080\n",
       "│    │    └─_DenseLayer: 3-83            [128, 32, 7, 7]           170,240\n",
       "│    │    └─_DenseLayer: 3-84            [128, 32, 7, 7]           174,400\n",
       "│    │    └─_DenseLayer: 3-85            [128, 32, 7, 7]           178,560\n",
       "│    │    └─_DenseLayer: 3-86            [128, 32, 7, 7]           182,720\n",
       "│    │    └─_DenseLayer: 3-87            [128, 32, 7, 7]           186,880\n",
       "│    │    └─_DenseLayer: 3-88            [128, 32, 7, 7]           191,040\n",
       "│    │    └─_DenseLayer: 3-89            [128, 32, 7, 7]           195,200\n",
       "│    │    └─_DenseLayer: 3-90            [128, 32, 7, 7]           199,360\n",
       "│    │    └─_DenseLayer: 3-91            [128, 32, 7, 7]           203,520\n",
       "│    │    └─_DenseLayer: 3-92            [128, 32, 7, 7]           207,680\n",
       "│    │    └─_DenseLayer: 3-93            [128, 32, 7, 7]           211,840\n",
       "│    │    └─_DenseLayer: 3-94            [128, 32, 7, 7]           216,000\n",
       "│    │    └─_DenseLayer: 3-95            [128, 32, 7, 7]           220,160\n",
       "│    │    └─_DenseLayer: 3-96            [128, 32, 7, 7]           224,320\n",
       "│    │    └─_DenseLayer: 3-97            [128, 32, 7, 7]           228,480\n",
       "│    │    └─_DenseLayer: 3-98            [128, 32, 7, 7]           232,640\n",
       "│    │    └─_DenseLayer: 3-99            [128, 32, 7, 7]           236,800\n",
       "│    │    └─_DenseLayer: 3-100           [128, 32, 7, 7]           240,960\n",
       "│    │    └─_DenseLayer: 3-101           [128, 32, 7, 7]           245,120\n",
       "│    │    └─_DenseLayer: 3-102           [128, 32, 7, 7]           249,280\n",
       "│    │    └─_DenseLayer: 3-103           [128, 32, 7, 7]           253,440\n",
       "│    │    └─_DenseLayer: 3-104           [128, 32, 7, 7]           257,600\n",
       "│    │    └─_DenseLayer: 3-105           [128, 32, 7, 7]           261,760\n",
       "│    │    └─_DenseLayer: 3-106           [128, 32, 7, 7]           265,920\n",
       "│    │    └─_DenseLayer: 3-107           [128, 32, 7, 7]           270,080\n",
       "│    │    └─_DenseLayer: 3-108           [128, 32, 7, 7]           274,240\n",
       "│    │    └─_DenseLayer: 3-109           [128, 32, 7, 7]           278,400\n",
       "│    │    └─_DenseLayer: 3-110           [128, 32, 7, 7]           282,560\n",
       "│    └─BatchNorm2d: 2-12                 [128, 1920, 7, 7]         3,840\n",
       "├─Linear: 1-2                            [128, 1000]               1,921,000\n",
       "==========================================================================================\n",
       "Total params: 20,013,928\n",
       "Trainable params: 20,013,928\n",
       "Non-trainable params: 0\n",
       "Total mult-adds (G): 549.32\n",
       "==========================================================================================\n",
       "Input size (MB): 77.07\n",
       "Forward/backward pass size (MB): 33340.37\n",
       "Params size (MB): 80.06\n",
       "Estimated Total Size (MB): 33497.49\n",
       "=========================================================================================="
      ]
     },
     "execution_count": 5,
     "metadata": {},
     "output_type": "execute_result"
    }
   ],
   "source": [
    "summary(model, (BATCH_SIZE, 3, 224, 224))"
   ]
  },
  {
   "cell_type": "code",
   "execution_count": 6,
   "id": "7d86611f",
   "metadata": {},
   "outputs": [
    {
     "data": {
      "text/plain": [
       "ImageClassification(\n",
       "    crop_size=[224]\n",
       "    resize_size=[256]\n",
       "    mean=[0.485, 0.456, 0.406]\n",
       "    std=[0.229, 0.224, 0.225]\n",
       "    interpolation=InterpolationMode.BILINEAR\n",
       ")"
      ]
     },
     "execution_count": 6,
     "metadata": {},
     "output_type": "execute_result"
    }
   ],
   "source": [
    "# transform = transforms.Compose([\n",
    "#     transforms.Resize(256),\n",
    "#     transforms.CenterCrop(224),\n",
    "#     transforms.ToTensor(),\n",
    "#     transforms.Normalize(mean=[0.485, 0.456, 0.406], std=[0.229, 0.224, 0.225])\n",
    "# ])\n",
    "transform = torchvision.models.densenet.DenseNet201_Weights.IMAGENET1K_V1.transforms()\n",
    "transform"
   ]
  },
  {
   "cell_type": "code",
   "execution_count": 7,
   "id": "1d8482b0",
   "metadata": {},
   "outputs": [],
   "source": [
    "dataset = torchvision.datasets.ImageNet(root=IMAGENET_DIR, transform=transform, split='val')\n",
    "loader = data.DataLoader(dataset, batch_size=BATCH_SIZE, shuffle=False, num_workers=LOADER_WORKERS)"
   ]
  },
  {
   "cell_type": "code",
   "execution_count": 8,
   "id": "34cc1f53",
   "metadata": {},
   "outputs": [
    {
     "name": "stdout",
     "output_type": "stream",
     "text": [
      "step: 50000/50000\n",
      "top-1:  0.7689\n",
      "top-5:  0.9398\n",
      "Batch Size: 128\n",
      "Total Time: 65.6227 (0.0013)\n",
      "Average Prediction Time: 0.0414\n"
     ]
    }
   ],
   "source": [
    "n_top1 = 0\n",
    "n_top5 = 0\n",
    "cnt = 0\n",
    "\n",
    "s = time.time()\n",
    "pred_tms = []\n",
    "with torch.no_grad():\n",
    "    for images, labels in loader:\n",
    "\n",
    "        x = images.to(device)\n",
    "        y = labels.to(device)\n",
    "        \n",
    "        ss = time.time()\n",
    "        output = model(x)\n",
    "        pred_tms.append(time.time()-ss)\n",
    "        \n",
    "        cnt += output.size(0)\n",
    "        \n",
    "        _, pred_top1 = output.max(1)\n",
    "        _, pred_top5 = output.topk(5, 1, True, True)\n",
    "        \n",
    "        n_top1 += torch.eq(pred_top1, y).sum().item()\n",
    "        n_top5 += torch.isin(pred_top5, y).max(1)[0].sum().item()\n",
    "\n",
    "        print(f\"\\rstep: {cnt}/{len(dataset)}\", end='')\n",
    "total_tm = time.time() - s\n",
    "print()\n",
    "print(f\"top-1:  {n_top1/cnt:0.4f}\")\n",
    "print(f\"top-5:  {n_top5/cnt:0.4f}\")\n",
    "print(f\"Batch Size: {BATCH_SIZE}\")\n",
    "print(f\"Total Time: {total_tm:0.4f} ({total_tm/len(dataset):0.4f})\")\n",
    "print(f\"Average Prediction Time: {np.mean(pred_tms):0.4f}\")"
   ]
  }
 ],
 "metadata": {
  "kernelspec": {
   "display_name": "mldl",
   "language": "python",
   "name": "mldl"
  },
  "language_info": {
   "codemirror_mode": {
    "name": "ipython",
    "version": 3
   },
   "file_extension": ".py",
   "mimetype": "text/x-python",
   "name": "python",
   "nbconvert_exporter": "python",
   "pygments_lexer": "ipython3",
   "version": "3.8.13"
  }
 },
 "nbformat": 4,
 "nbformat_minor": 5
}
