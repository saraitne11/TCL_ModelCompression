{
 "cells": [
  {
   "cell_type": "code",
   "execution_count": 1,
   "id": "5f04687f",
   "metadata": {},
   "outputs": [],
   "source": [
    "import torch\n",
    "import torchvision\n",
    "import torchvision.transforms as transforms\n",
    "\n",
    "import os\n",
    "\n",
    "import torch.nn.utils.prune as prune"
   ]
  },
  {
   "cell_type": "code",
   "execution_count": 2,
   "id": "f0405ddd",
   "metadata": {},
   "outputs": [],
   "source": [
    "PRUNE_AMOUNT = 0.7\n",
    "\n",
    "FLASK_MODEL_DIR = './Flask/Models'\n",
    "TRITON_MODEL_DIR = './Triton/Models'\n",
    "\n",
    "TRITON_CONFIG_FILE = 'config.pbtxt'\n",
    "TRITON_MODEL_FILE = 'model.pt'\n",
    "\n",
    "os.makedirs(FLASK_MODEL_DIR, exist_ok=True)\n",
    "os.makedirs(TRITON_MODEL_DIR, exist_ok=True)"
   ]
  },
  {
   "cell_type": "code",
   "execution_count": 3,
   "id": "630b9efd",
   "metadata": {},
   "outputs": [],
   "source": [
    "def is_leaf_module(module):\n",
    "    if not list(module.children()):\n",
    "        return True\n",
    "    else:\n",
    "        return False\n",
    "\n",
    "def is_conv3x3_module(module):\n",
    "    if isinstance(module, torch.nn.modules.conv.Conv2d):\n",
    "        if module.kernel_size == (3, 3):\n",
    "            return True\n",
    "        else:\n",
    "            return False\n",
    "    else:\n",
    "        return False"
   ]
  },
  {
   "cell_type": "code",
   "execution_count": 4,
   "id": "8bfe7332",
   "metadata": {},
   "outputs": [],
   "source": [
    "def get_prune_modules(model):\n",
    "    # get conv3x3 modules\n",
    "    return [(m, 'weight') for m in model.modules() if is_conv3x3_module(m)]"
   ]
  },
  {
   "cell_type": "code",
   "execution_count": 5,
   "id": "9ec9ad9d",
   "metadata": {},
   "outputs": [],
   "source": [
    "def save_flask_model(model, model_name):\n",
    "    path = os.path.join(FLASK_MODEL_DIR, model_name + '.pt')\n",
    "    torch.jit.save(model, path)\n",
    "    print(path)\n",
    "    return"
   ]
  },
  {
   "cell_type": "code",
   "execution_count": 6,
   "id": "dbeb2ca0",
   "metadata": {},
   "outputs": [],
   "source": [
    "def save_triton_model(model, config, model_name):\n",
    "    path = os.path.join(TRITON_MODEL_DIR, model_name, TRITON_CONFIG_FILE)\n",
    "    os.makedirs(os.path.dirname(path), exist_ok=True)\n",
    "    with open(path, 'w') as f:\n",
    "        f.write(config.strip())\n",
    "    print(path)\n",
    "    \n",
    "    path = os.path.join(TRITON_MODEL_DIR, model_name, '1', TRITON_MODEL_FILE)\n",
    "    os.makedirs(os.path.dirname(path), exist_ok=True)\n",
    "    torch.jit.save(model, path)\n",
    "    print(path)\n",
    "    return"
   ]
  },
  {
   "cell_type": "code",
   "execution_count": 7,
   "id": "2961bb03",
   "metadata": {},
   "outputs": [
    {
     "name": "stdout",
     "output_type": "stream",
     "text": [
      "cuda:0\n"
     ]
    }
   ],
   "source": [
    "device = torch.device('cuda:0' if torch.cuda.is_available() else 'cpu')\n",
    "print(device)"
   ]
  },
  {
   "cell_type": "code",
   "execution_count": 8,
   "id": "5ac28c06",
   "metadata": {},
   "outputs": [
    {
     "name": "stdout",
     "output_type": "stream",
     "text": [
      "./Flask/Models/resnet34-prune70-script.pt\n",
      "./Triton/Models/resnet34-prune70-script/config.pbtxt\n",
      "./Triton/Models/resnet34-prune70-script/1/model.pt\n"
     ]
    }
   ],
   "source": [
    "model_name = f'resnet34-prune{int(PRUNE_AMOUNT * 100)}-script'\n",
    "\n",
    "model = torchvision.models.resnet34(pretrained=True)\n",
    "\n",
    "modules_to_prune = get_prune_modules(model)\n",
    "\n",
    "prune.global_unstructured(\n",
    "    modules_to_prune,\n",
    "    pruning_method=prune.L1Unstructured,\n",
    "    amount=PRUNE_AMOUNT,\n",
    ")\n",
    "\n",
    "for m, n in modules_to_prune:\n",
    "    prune.remove(m, n)\n",
    "\n",
    "model = torch.jit.script(model)\n",
    "model = model.to(device)\n",
    "model = model.eval()\n",
    "\n",
    "triton_config = \"\"\"\n",
    "platform: \"pytorch_libtorch\"\n",
    "max_batch_size: 32\n",
    "input [\n",
    " {\n",
    "    name: \"input__0\"\n",
    "    data_type: TYPE_FP32\n",
    "    format: FORMAT_NCHW\n",
    "    dims: [ 3, 224, 224 ]\n",
    "  }\n",
    "]\n",
    "output {\n",
    "    name: \"output__0\"\n",
    "    data_type: TYPE_FP32\n",
    "    dims: [ 1000 ]\n",
    "  }\n",
    "\"\"\"\n",
    "\n",
    "save_flask_model(model, model_name)\n",
    "save_triton_model(model, triton_config, model_name)"
   ]
  },
  {
   "cell_type": "code",
   "execution_count": 9,
   "id": "53ad4e6d",
   "metadata": {},
   "outputs": [
    {
     "name": "stdout",
     "output_type": "stream",
     "text": [
      "./Flask/Models/mobilenet_v2-prune70-script.pt\n",
      "./Triton/Models/mobilenet_v2-prune70-script/config.pbtxt\n",
      "./Triton/Models/mobilenet_v2-prune70-script/1/model.pt\n"
     ]
    }
   ],
   "source": [
    "model_name = f'mobilenet_v2-prune{int(PRUNE_AMOUNT * 100)}-script'\n",
    "\n",
    "model = torchvision.models.mobilenet_v2(pretrained=True)\n",
    "\n",
    "modules_to_prune = get_prune_modules(model)\n",
    "\n",
    "prune.global_unstructured(\n",
    "    modules_to_prune,\n",
    "    pruning_method=prune.L1Unstructured,\n",
    "    amount=PRUNE_AMOUNT,\n",
    ")\n",
    "\n",
    "for m, n in modules_to_prune:\n",
    "    prune.remove(m, n)\n",
    "\n",
    "model = torch.jit.script(model)\n",
    "model = model.to(device)\n",
    "model = model.eval()\n",
    "\n",
    "triton_config = \"\"\"\n",
    "platform: \"pytorch_libtorch\"\n",
    "max_batch_size: 32\n",
    "input [\n",
    " {\n",
    "    name: \"input_0\"\n",
    "    data_type: TYPE__FP32\n",
    "    format: FORMAT_NCHW\n",
    "    dims: [ 3, 224, 224 ]\n",
    "  }\n",
    "]\n",
    "output {\n",
    "    name: \"output__0\"\n",
    "    data_type: TYPE_FP32\n",
    "    dims: [ 1000 ]\n",
    "  }\n",
    "\"\"\"\n",
    "\n",
    "save_flask_model(model, model_name)\n",
    "save_triton_model(model, triton_config, model_name)"
   ]
  },
  {
   "cell_type": "code",
   "execution_count": 10,
   "id": "b36ac9c9",
   "metadata": {},
   "outputs": [
    {
     "name": "stdout",
     "output_type": "stream",
     "text": [
      "./Flask/Models/efficientnet_b0-prune70-script.pt\n",
      "./Triton/Models/efficientnet_b0-prune70-script/config.pbtxt\n",
      "./Triton/Models/efficientnet_b0-prune70-script/1/model.pt\n"
     ]
    }
   ],
   "source": [
    "model_name = f'efficientnet_b0-prune{int(PRUNE_AMOUNT * 100)}-script'\n",
    "\n",
    "model = torchvision.models.efficientnet_b0(pretrained=True)\n",
    "\n",
    "modules_to_prune = get_prune_modules(model)\n",
    "\n",
    "prune.global_unstructured(\n",
    "    modules_to_prune,\n",
    "    pruning_method=prune.L1Unstructured,\n",
    "    amount=PRUNE_AMOUNT,\n",
    ")\n",
    "\n",
    "for m, n in modules_to_prune:\n",
    "    prune.remove(m, n)\n",
    "\n",
    "model = torch.jit.script(model)\n",
    "model = model.to(device)\n",
    "model = model.eval()\n",
    "\n",
    "triton_config = \"\"\"\n",
    "platform: \"pytorch_libtorch\"\n",
    "max_batch_size: 32\n",
    "input [\n",
    " {\n",
    "    name: \"input__0\"\n",
    "    data_type: TYPE_FP32\n",
    "    format: FORMAT_NCHW\n",
    "    dims: [ 3, 224, 224 ]\n",
    "  }\n",
    "]\n",
    "output {\n",
    "    name: \"output__0\"\n",
    "    data_type: TYPE_FP32\n",
    "    dims: [ 1000 ]\n",
    "  }\n",
    "\"\"\"\n",
    "\n",
    "save_flask_model(model, model_name)\n",
    "save_triton_model(model, triton_config, model_name)"
   ]
  },
  {
   "cell_type": "code",
   "execution_count": 11,
   "id": "01237c71",
   "metadata": {},
   "outputs": [
    {
     "name": "stdout",
     "output_type": "stream",
     "text": [
      "./Flask/Models/efficientnet_b7-prune70-script.pt\n",
      "./Triton/Models/efficientnet_b7-prune70-script/config.pbtxt\n",
      "./Triton/Models/efficientnet_b7-prune70-script/1/model.pt\n"
     ]
    }
   ],
   "source": [
    "model_name = f'efficientnet_b7-prune{int(PRUNE_AMOUNT * 100)}-script'\n",
    "\n",
    "model = torchvision.models.efficientnet_b7(pretrained=True)\n",
    "\n",
    "modules_to_prune = get_prune_modules(model)\n",
    "\n",
    "prune.global_unstructured(\n",
    "    modules_to_prune,\n",
    "    pruning_method=prune.L1Unstructured,\n",
    "    amount=PRUNE_AMOUNT,\n",
    ")\n",
    "\n",
    "for m, n in modules_to_prune:\n",
    "    prune.remove(m, n)\n",
    "\n",
    "model = torch.jit.script(model)\n",
    "model = model.to(device)\n",
    "model = model.eval()\n",
    "\n",
    "triton_config = \"\"\"\n",
    "platform: \"pytorch_libtorch\"\n",
    "max_batch_size: 32\n",
    "input [\n",
    " {\n",
    "    name: \"input__0\"\n",
    "    data_type: TYPE_FP32\n",
    "    format: FORMAT_NCHW\n",
    "    dims: [ 3, 600, 600 ]\n",
    "  }\n",
    "]\n",
    "output {\n",
    "    name: \"output__0\"\n",
    "    data_type: TYPE_FP32\n",
    "    dims: [ 1000 ]\n",
    "  }\n",
    "\"\"\"\n",
    "\n",
    "save_flask_model(model, model_name)\n",
    "save_triton_model(model, triton_config, model_name)"
   ]
  }
 ],
 "metadata": {
  "kernelspec": {
   "display_name": "Python 3 (ipykernel)",
   "language": "python",
   "name": "python3"
  },
  "language_info": {
   "codemirror_mode": {
    "name": "ipython",
    "version": 3
   },
   "file_extension": ".py",
   "mimetype": "text/x-python",
   "name": "python",
   "nbconvert_exporter": "python",
   "pygments_lexer": "ipython3",
   "version": "3.7.11"
  }
 },
 "nbformat": 4,
 "nbformat_minor": 5
}
