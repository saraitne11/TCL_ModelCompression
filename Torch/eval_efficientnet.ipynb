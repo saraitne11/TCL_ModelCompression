{
 "cells": [
  {
   "cell_type": "code",
   "execution_count": 1,
   "id": "bb12d101",
   "metadata": {},
   "outputs": [],
   "source": [
    "import torch\n",
    "import torchvision\n",
    "import torch.utils.data as data\n",
    "import torchvision.transforms as transforms\n",
    "\n",
    "from torchinfo import summary\n",
    "\n",
    "import numpy as np\n",
    "import time"
   ]
  },
  {
   "cell_type": "code",
   "execution_count": 2,
   "id": "24b79ac3",
   "metadata": {},
   "outputs": [],
   "source": [
    "IMAGENET_DIR = '/home/data/ImageNet'\n",
    "BATCH_SIZE = 128\n",
    "LOADER_WORKERS = 4"
   ]
  },
  {
   "cell_type": "code",
   "execution_count": 3,
   "id": "282c5689",
   "metadata": {},
   "outputs": [
    {
     "name": "stdout",
     "output_type": "stream",
     "text": [
      "cuda:0\n"
     ]
    }
   ],
   "source": [
    "device = torch.device('cuda:0' if torch.cuda.is_available() else 'cpu')\n",
    "print(device)"
   ]
  },
  {
   "cell_type": "code",
   "execution_count": 4,
   "id": "91deb93c",
   "metadata": {
    "scrolled": true
   },
   "outputs": [],
   "source": [
    "w = torchvision.models.efficientnet.EfficientNet_V2_L_Weights.IMAGENET1K_V1\n",
    "model = torchvision.models.efficientnet_v2_l(weights=w)\n",
    "model = model.to(device)\n",
    "model = model.eval()"
   ]
  },
  {
   "cell_type": "code",
   "execution_count": 5,
   "id": "ddda8df7",
   "metadata": {
    "scrolled": true
   },
   "outputs": [
    {
     "data": {
      "text/plain": [
       "=========================================================================================================\n",
       "Layer (type:depth-idx)                                  Output Shape              Param #\n",
       "=========================================================================================================\n",
       "EfficientNet                                            [128, 1000]               --\n",
       "├─Sequential: 1-1                                       [128, 1280, 7, 7]         --\n",
       "│    └─Conv2dNormActivation: 2-1                        [128, 32, 112, 112]       --\n",
       "│    │    └─Conv2d: 3-1                                 [128, 32, 112, 112]       864\n",
       "│    │    └─BatchNorm2d: 3-2                            [128, 32, 112, 112]       64\n",
       "│    │    └─SiLU: 3-3                                   [128, 32, 112, 112]       --\n",
       "│    └─Sequential: 2-2                                  [128, 32, 112, 112]       --\n",
       "│    │    └─FusedMBConv: 3-4                            [128, 32, 112, 112]       9,280\n",
       "│    │    └─FusedMBConv: 3-5                            [128, 32, 112, 112]       9,280\n",
       "│    │    └─FusedMBConv: 3-6                            [128, 32, 112, 112]       9,280\n",
       "│    │    └─FusedMBConv: 3-7                            [128, 32, 112, 112]       9,280\n",
       "│    └─Sequential: 2-3                                  [128, 64, 56, 56]         --\n",
       "│    │    └─FusedMBConv: 3-8                            [128, 64, 56, 56]         45,440\n",
       "│    │    └─FusedMBConv: 3-9                            [128, 64, 56, 56]         164,480\n",
       "│    │    └─FusedMBConv: 3-10                           [128, 64, 56, 56]         164,480\n",
       "│    │    └─FusedMBConv: 3-11                           [128, 64, 56, 56]         164,480\n",
       "│    │    └─FusedMBConv: 3-12                           [128, 64, 56, 56]         164,480\n",
       "│    │    └─FusedMBConv: 3-13                           [128, 64, 56, 56]         164,480\n",
       "│    │    └─FusedMBConv: 3-14                           [128, 64, 56, 56]         164,480\n",
       "│    └─Sequential: 2-4                                  [128, 96, 28, 28]         --\n",
       "│    │    └─FusedMBConv: 3-15                           [128, 96, 28, 28]         172,736\n",
       "│    │    └─FusedMBConv: 3-16                           [128, 96, 28, 28]         369,600\n",
       "│    │    └─FusedMBConv: 3-17                           [128, 96, 28, 28]         369,600\n",
       "│    │    └─FusedMBConv: 3-18                           [128, 96, 28, 28]         369,600\n",
       "│    │    └─FusedMBConv: 3-19                           [128, 96, 28, 28]         369,600\n",
       "│    │    └─FusedMBConv: 3-20                           [128, 96, 28, 28]         369,600\n",
       "│    │    └─FusedMBConv: 3-21                           [128, 96, 28, 28]         369,600\n",
       "│    └─Sequential: 2-5                                  [128, 192, 14, 14]        --\n",
       "│    │    └─MBConv: 3-22                                [128, 192, 14, 14]        134,808\n",
       "│    │    └─MBConv: 3-23                                [128, 192, 14, 14]        379,824\n",
       "│    │    └─MBConv: 3-24                                [128, 192, 14, 14]        379,824\n",
       "│    │    └─MBConv: 3-25                                [128, 192, 14, 14]        379,824\n",
       "│    │    └─MBConv: 3-26                                [128, 192, 14, 14]        379,824\n",
       "│    │    └─MBConv: 3-27                                [128, 192, 14, 14]        379,824\n",
       "│    │    └─MBConv: 3-28                                [128, 192, 14, 14]        379,824\n",
       "│    │    └─MBConv: 3-29                                [128, 192, 14, 14]        379,824\n",
       "│    │    └─MBConv: 3-30                                [128, 192, 14, 14]        379,824\n",
       "│    │    └─MBConv: 3-31                                [128, 192, 14, 14]        379,824\n",
       "│    └─Sequential: 2-6                                  [128, 224, 14, 14]        --\n",
       "│    │    └─MBConv: 3-32                                [128, 224, 14, 14]        606,448\n",
       "│    │    └─MBConv: 3-33                                [128, 224, 14, 14]        771,960\n",
       "│    │    └─MBConv: 3-34                                [128, 224, 14, 14]        771,960\n",
       "│    │    └─MBConv: 3-35                                [128, 224, 14, 14]        771,960\n",
       "│    │    └─MBConv: 3-36                                [128, 224, 14, 14]        771,960\n",
       "│    │    └─MBConv: 3-37                                [128, 224, 14, 14]        771,960\n",
       "│    │    └─MBConv: 3-38                                [128, 224, 14, 14]        771,960\n",
       "│    │    └─MBConv: 3-39                                [128, 224, 14, 14]        771,960\n",
       "│    │    └─MBConv: 3-40                                [128, 224, 14, 14]        771,960\n",
       "│    │    └─MBConv: 3-41                                [128, 224, 14, 14]        771,960\n",
       "│    │    └─MBConv: 3-42                                [128, 224, 14, 14]        771,960\n",
       "│    │    └─MBConv: 3-43                                [128, 224, 14, 14]        771,960\n",
       "│    │    └─MBConv: 3-44                                [128, 224, 14, 14]        771,960\n",
       "│    │    └─MBConv: 3-45                                [128, 224, 14, 14]        771,960\n",
       "│    │    └─MBConv: 3-46                                [128, 224, 14, 14]        771,960\n",
       "│    │    └─MBConv: 3-47                                [128, 224, 14, 14]        771,960\n",
       "│    │    └─MBConv: 3-48                                [128, 224, 14, 14]        771,960\n",
       "│    │    └─MBConv: 3-49                                [128, 224, 14, 14]        771,960\n",
       "│    │    └─MBConv: 3-50                                [128, 224, 14, 14]        771,960\n",
       "│    └─Sequential: 2-7                                  [128, 384, 7, 7]          --\n",
       "│    │    └─MBConv: 3-51                                [128, 384, 7, 7]          987,320\n",
       "│    │    └─MBConv: 3-52                                [128, 384, 7, 7]          2,244,960\n",
       "│    │    └─MBConv: 3-53                                [128, 384, 7, 7]          2,244,960\n",
       "│    │    └─MBConv: 3-54                                [128, 384, 7, 7]          2,244,960\n",
       "│    │    └─MBConv: 3-55                                [128, 384, 7, 7]          2,244,960\n",
       "│    │    └─MBConv: 3-56                                [128, 384, 7, 7]          2,244,960\n",
       "│    │    └─MBConv: 3-57                                [128, 384, 7, 7]          2,244,960\n",
       "│    │    └─MBConv: 3-58                                [128, 384, 7, 7]          2,244,960\n",
       "│    │    └─MBConv: 3-59                                [128, 384, 7, 7]          2,244,960\n",
       "│    │    └─MBConv: 3-60                                [128, 384, 7, 7]          2,244,960\n",
       "│    │    └─MBConv: 3-61                                [128, 384, 7, 7]          2,244,960\n",
       "│    │    └─MBConv: 3-62                                [128, 384, 7, 7]          2,244,960\n",
       "│    │    └─MBConv: 3-63                                [128, 384, 7, 7]          2,244,960\n",
       "│    │    └─MBConv: 3-64                                [128, 384, 7, 7]          2,244,960\n",
       "│    │    └─MBConv: 3-65                                [128, 384, 7, 7]          2,244,960\n",
       "│    │    └─MBConv: 3-66                                [128, 384, 7, 7]          2,244,960\n",
       "│    │    └─MBConv: 3-67                                [128, 384, 7, 7]          2,244,960\n",
       "│    │    └─MBConv: 3-68                                [128, 384, 7, 7]          2,244,960\n",
       "│    │    └─MBConv: 3-69                                [128, 384, 7, 7]          2,244,960\n",
       "│    │    └─MBConv: 3-70                                [128, 384, 7, 7]          2,244,960\n",
       "│    │    └─MBConv: 3-71                                [128, 384, 7, 7]          2,244,960\n",
       "│    │    └─MBConv: 3-72                                [128, 384, 7, 7]          2,244,960\n",
       "│    │    └─MBConv: 3-73                                [128, 384, 7, 7]          2,244,960\n",
       "│    │    └─MBConv: 3-74                                [128, 384, 7, 7]          2,244,960\n",
       "│    │    └─MBConv: 3-75                                [128, 384, 7, 7]          2,244,960\n",
       "│    └─Sequential: 2-8                                  [128, 640, 7, 7]          --\n",
       "│    │    └─MBConv: 3-76                                [128, 640, 7, 7]          2,835,296\n",
       "│    │    └─MBConv: 3-77                                [128, 640, 7, 7]          6,199,200\n",
       "│    │    └─MBConv: 3-78                                [128, 640, 7, 7]          6,199,200\n",
       "│    │    └─MBConv: 3-79                                [128, 640, 7, 7]          6,199,200\n",
       "│    │    └─MBConv: 3-80                                [128, 640, 7, 7]          6,199,200\n",
       "│    │    └─MBConv: 3-81                                [128, 640, 7, 7]          6,199,200\n",
       "│    │    └─MBConv: 3-82                                [128, 640, 7, 7]          6,199,200\n",
       "│    └─Conv2dNormActivation: 2-9                        [128, 1280, 7, 7]         --\n",
       "│    │    └─Conv2d: 3-83                                [128, 1280, 7, 7]         819,200\n",
       "│    │    └─BatchNorm2d: 3-84                           [128, 1280, 7, 7]         2,560\n",
       "│    │    └─SiLU: 3-85                                  [128, 1280, 7, 7]         --\n",
       "├─AdaptiveAvgPool2d: 1-2                                [128, 1280, 1, 1]         --\n",
       "├─Sequential: 1-3                                       [128, 1000]               --\n",
       "│    └─Dropout: 2-10                                    [128, 1280]               --\n",
       "│    └─Linear: 2-11                                     [128, 1000]               1,281,000\n",
       "=========================================================================================================\n",
       "Total params: 118,515,272\n",
       "Trainable params: 118,515,272\n",
       "Non-trainable params: 0\n",
       "Total mult-adds (T): 1.57\n",
       "=========================================================================================================\n",
       "Input size (MB): 77.07\n",
       "Forward/backward pass size (MB): 70533.62\n",
       "Params size (MB): 474.06\n",
       "Estimated Total Size (MB): 71084.75\n",
       "========================================================================================================="
      ]
     },
     "execution_count": 5,
     "metadata": {},
     "output_type": "execute_result"
    }
   ],
   "source": [
    "summary(model, (BATCH_SIZE, 3, 224, 224))"
   ]
  },
  {
   "cell_type": "code",
   "execution_count": 6,
   "id": "888cd7bd",
   "metadata": {},
   "outputs": [
    {
     "data": {
      "text/plain": [
       "ImageClassification(\n",
       "    crop_size=[480]\n",
       "    resize_size=[480]\n",
       "    mean=[0.5, 0.5, 0.5]\n",
       "    std=[0.5, 0.5, 0.5]\n",
       "    interpolation=InterpolationMode.BICUBIC\n",
       ")"
      ]
     },
     "execution_count": 6,
     "metadata": {},
     "output_type": "execute_result"
    }
   ],
   "source": [
    "# transform = transforms.Compose([\n",
    "#     transforms.Resize(256),\n",
    "#     transforms.CenterCrop(224),\n",
    "#     transforms.ToTensor(),\n",
    "#     transforms.Normalize(mean=[0.485, 0.456, 0.406], std=[0.229, 0.224, 0.225])\n",
    "# ])\n",
    "transform = torchvision.models.efficientnet.EfficientNet_V2_L_Weights.IMAGENET1K_V1.transforms()\n",
    "transform"
   ]
  },
  {
   "cell_type": "code",
   "execution_count": 7,
   "id": "7c5268c6",
   "metadata": {},
   "outputs": [],
   "source": [
    "dataset = torchvision.datasets.ImageNet(root=IMAGENET_DIR, transform=transform, split='val')\n",
    "loader = data.DataLoader(dataset, batch_size=BATCH_SIZE, shuffle=False, num_workers=LOADER_WORKERS)"
   ]
  },
  {
   "cell_type": "code",
   "execution_count": 8,
   "id": "2c05f56d",
   "metadata": {},
   "outputs": [
    {
     "name": "stdout",
     "output_type": "stream",
     "text": [
      "step: 50000/50000\n",
      "top-1:  0.8580\n",
      "top-5:  0.9812\n",
      "Batch Size: 128\n",
      "Total Time: 493.7320 (0.0099)\n",
      "Average Prediction Time: 0.5770\n"
     ]
    }
   ],
   "source": [
    "n_top1 = 0\n",
    "n_top5 = 0\n",
    "cnt = 0\n",
    "\n",
    "s = time.time()\n",
    "pred_tms = []\n",
    "with torch.no_grad():\n",
    "    for images, labels in loader:\n",
    "\n",
    "        x = images.to(device)\n",
    "        y = labels.to(device)\n",
    "        \n",
    "        ss = time.time()\n",
    "        output = model(x)\n",
    "        pred_tms.append(time.time()-ss)\n",
    "        \n",
    "        cnt += output.size(0)\n",
    "        \n",
    "        _, pred_top1 = output.max(1)\n",
    "        _, pred_top5 = output.topk(5, 1, True, True)\n",
    "        \n",
    "        n_top1 += torch.eq(pred_top1, y).sum().item()\n",
    "        n_top5 += torch.isin(pred_top5, y).max(1)[0].sum().item()\n",
    "\n",
    "        print(f\"\\rstep: {cnt}/{len(dataset)}\", end='')\n",
    "total_tm = time.time() - s\n",
    "print()\n",
    "print(f\"top-1:  {n_top1/cnt:0.4f}\")\n",
    "print(f\"top-5:  {n_top5/cnt:0.4f}\")\n",
    "print(f\"Batch Size: {BATCH_SIZE}\")\n",
    "print(f\"Total Time: {total_tm:0.4f} ({total_tm/len(dataset):0.4f})\")\n",
    "print(f\"Average Prediction Time: {np.mean(pred_tms):0.4f}\")"
   ]
  }
 ],
 "metadata": {
  "kernelspec": {
   "display_name": "mldl",
   "language": "python",
   "name": "mldl"
  },
  "language_info": {
   "codemirror_mode": {
    "name": "ipython",
    "version": 3
   },
   "file_extension": ".py",
   "mimetype": "text/x-python",
   "name": "python",
   "nbconvert_exporter": "python",
   "pygments_lexer": "ipython3",
   "version": "3.8.13"
  }
 },
 "nbformat": 4,
 "nbformat_minor": 5
}
