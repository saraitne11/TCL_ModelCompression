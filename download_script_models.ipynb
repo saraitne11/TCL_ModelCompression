{
 "cells": [
  {
   "cell_type": "code",
   "execution_count": 1,
   "id": "5f04687f",
   "metadata": {},
   "outputs": [],
   "source": [
    "import torch\n",
    "import torchvision\n",
    "import torchvision.transforms as transforms\n",
    "\n",
    "import os"
   ]
  },
  {
   "cell_type": "code",
   "execution_count": 2,
   "id": "f0405ddd",
   "metadata": {},
   "outputs": [],
   "source": [
    "FLASK_MODEL_DIR = './Flask/Models'\n",
    "TRITON_MODEL_DIR = './Triton/Models'\n",
    "TRANSFORM_DIR = './Transforms'\n",
    "\n",
    "TRITON_CONFIG_FILE = 'config.pbtxt'\n",
    "TRITON_MODEL_FILE = 'model.pt'\n",
    "\n",
    "os.makedirs(FLASK_MODEL_DIR, exist_ok=True)\n",
    "os.makedirs(TRITON_MODEL_DIR, exist_ok=True)\n",
    "os.makedirs(TRANSFORM_DIR, exist_ok=True)"
   ]
  },
  {
   "cell_type": "code",
   "execution_count": 3,
   "id": "e78a6d91",
   "metadata": {},
   "outputs": [],
   "source": [
    "def save_transform(transform, model_name):\n",
    "    base_name = model_name.split('-')[0]\n",
    "    path = os.path.join(TRANSFORM_DIR, base_name + '.pt')\n",
    "    torch.save(transform, path)\n",
    "    print(path)"
   ]
  },
  {
   "cell_type": "code",
   "execution_count": 4,
   "id": "9ec9ad9d",
   "metadata": {},
   "outputs": [],
   "source": [
    "def save_flask_model(model, transform, model_name):\n",
    "    path = os.path.join(FLASK_MODEL_DIR, model_name + '.pt')\n",
    "    torch.jit.save(model, path)\n",
    "    print(path)\n",
    "    return"
   ]
  },
  {
   "cell_type": "code",
   "execution_count": 5,
   "id": "dbeb2ca0",
   "metadata": {},
   "outputs": [],
   "source": [
    "def save_triton_model(model, config, model_name):\n",
    "    path = os.path.join(TRITON_MODEL_DIR, model_name, TRITON_CONFIG_FILE)\n",
    "    os.makedirs(os.path.dirname(path), exist_ok=True)\n",
    "    with open(path, 'w') as f:\n",
    "        f.write(config.strip())\n",
    "    print(path)\n",
    "    \n",
    "    path = os.path.join(TRITON_MODEL_DIR, model_name, '1', TRITON_MODEL_FILE)\n",
    "    os.makedirs(os.path.dirname(path), exist_ok=True)\n",
    "    torch.jit.save(model, path)\n",
    "    print(path)\n",
    "    return"
   ]
  },
  {
   "cell_type": "code",
   "execution_count": 6,
   "id": "2961bb03",
   "metadata": {},
   "outputs": [
    {
     "name": "stdout",
     "output_type": "stream",
     "text": [
      "cuda:0\n"
     ]
    }
   ],
   "source": [
    "device = torch.device('cuda:0' if torch.cuda.is_available() else 'cpu')\n",
    "print(device)"
   ]
  },
  {
   "cell_type": "code",
   "execution_count": null,
   "id": "5ac28c06",
   "metadata": {},
   "outputs": [
    {
     "name": "stderr",
     "output_type": "stream",
     "text": [
      "Downloading: \"https://download.pytorch.org/models/resnet34-b627a593.pth\" to /root/.cache/torch/hub/checkpoints/resnet34-b627a593.pth\n",
      "100.0%\n"
     ]
    }
   ],
   "source": [
    "model_name = 'resnet34-script'\n",
    "\n",
    "transform = transforms.Compose([\n",
    "    transforms.Resize(256),\n",
    "    transforms.CenterCrop(224),\n",
    "    transforms.ToTensor(),\n",
    "    transforms.Normalize(mean=[0.485, 0.456, 0.406], std=[0.229, 0.224, 0.225])\n",
    "])\n",
    "\n",
    "model = torchvision.models.resnet34(pretrained=True)\n",
    "model = torch.jit.script(model)\n",
    "model = model.to(device)\n",
    "model = model.eval()\n",
    "\n",
    "triton_config = \"\"\"\n",
    "platform: \"pytorch_libtorch\"\n",
    "max_batch_size: 32\n",
    "input [\n",
    " {\n",
    "    name: \"input__0\"\n",
    "    data_type: TYPE_FP32\n",
    "    format: FORMAT_NCHW\n",
    "    dims: [ 3, 224, 224 ]\n",
    "  }\n",
    "]\n",
    "output {\n",
    "    name: \"output__0\"\n",
    "    data_type: TYPE_FP32\n",
    "    dims: [ 1000 ]\n",
    "  }\n",
    "\"\"\"\n",
    "\n",
    "save_transform(transform, model_name)\n",
    "save_flask_model(model, transform, model_name)\n",
    "save_triton_model(model, triton_config, model_name)"
   ]
  },
  {
   "cell_type": "code",
   "execution_count": 8,
   "id": "53ad4e6d",
   "metadata": {},
   "outputs": [
    {
     "name": "stderr",
     "output_type": "stream",
     "text": [
      "Downloading: \"https://download.pytorch.org/models/mobilenet_v2-b0353104.pth\" to /root/.cache/torch/hub/checkpoints/mobilenet_v2-b0353104.pth\n"
     ]
    },
    {
     "data": {
      "application/json": {
       "ascii": false,
       "bar_format": null,
       "colour": null,
       "elapsed": 0.012419462203979492,
       "initial": 0,
       "n": 0,
       "ncols": null,
       "nrows": null,
       "postfix": null,
       "prefix": "",
       "rate": null,
       "total": 14212972,
       "unit": "B",
       "unit_divisor": 1024,
       "unit_scale": true
      },
      "application/vnd.jupyter.widget-view+json": {
       "model_id": "1ab5b46b3d1444a6af2f15a775aa0416",
       "version_major": 2,
       "version_minor": 0
      },
      "text/plain": [
       "  0%|          | 0.00/13.6M [00:00<?, ?B/s]"
      ]
     },
     "metadata": {},
     "output_type": "display_data"
    },
    {
     "name": "stdout",
     "output_type": "stream",
     "text": [
      "./Transforms/mobilenet_v2.pt\n",
      "./Flask/Models/mobilenet_v2-script.pt\n",
      "./Triton/Models/mobilenet_v2-script/config.pbtxt\n",
      "./Triton/Models/mobilenet_v2-script/1/model.pt\n"
     ]
    }
   ],
   "source": [
    "model_name = 'mobilenet_v2-script'\n",
    "\n",
    "transform = transforms.Compose([\n",
    "    transforms.Resize(256),\n",
    "    transforms.CenterCrop(224),\n",
    "    transforms.ToTensor(),\n",
    "    transforms.Normalize(mean=[0.485, 0.456, 0.406], std=[0.229, 0.224, 0.225])\n",
    "])\n",
    "\n",
    "model = torchvision.models.mobilenet_v2(pretrained=True)\n",
    "model = torch.jit.script(model)\n",
    "model = model.to(device)\n",
    "model = model.eval()\n",
    "\n",
    "triton_config = \"\"\"\n",
    "platform: \"pytorch_libtorch\"\n",
    "max_batch_size: 32\n",
    "input [\n",
    " {\n",
    "    name: \"input_0\"\n",
    "    data_type: TYPE__FP32\n",
    "    format: FORMAT_NCHW\n",
    "    dims: [ 3, 224, 224 ]\n",
    "  }\n",
    "]\n",
    "output {\n",
    "    name: \"output__0\"\n",
    "    data_type: TYPE_FP32\n",
    "    dims: [ 1000 ]\n",
    "  }\n",
    "\"\"\"\n",
    "\n",
    "save_transform(transform, model_name)\n",
    "save_flask_model(model, transform, model_name)\n",
    "save_triton_model(model, triton_config, model_name)"
   ]
  },
  {
   "cell_type": "code",
   "execution_count": 9,
   "id": "b36ac9c9",
   "metadata": {},
   "outputs": [
    {
     "name": "stderr",
     "output_type": "stream",
     "text": [
      "Downloading: \"https://download.pytorch.org/models/efficientnet_b0_rwightman-3dd342df.pth\" to /root/.cache/torch/hub/checkpoints/efficientnet_b0_rwightman-3dd342df.pth\n"
     ]
    },
    {
     "data": {
      "application/json": {
       "ascii": false,
       "bar_format": null,
       "colour": null,
       "elapsed": 0.012313604354858398,
       "initial": 0,
       "n": 0,
       "ncols": null,
       "nrows": null,
       "postfix": null,
       "prefix": "",
       "rate": null,
       "total": 21444401,
       "unit": "B",
       "unit_divisor": 1024,
       "unit_scale": true
      },
      "application/vnd.jupyter.widget-view+json": {
       "model_id": "c634234dbf2c4820a77ebecbdac142fc",
       "version_major": 2,
       "version_minor": 0
      },
      "text/plain": [
       "  0%|          | 0.00/20.5M [00:00<?, ?B/s]"
      ]
     },
     "metadata": {},
     "output_type": "display_data"
    },
    {
     "name": "stdout",
     "output_type": "stream",
     "text": [
      "./Transforms/efficientnet_b0.pt\n",
      "./Flask/Models/efficientnet_b0-script.pt\n",
      "./Triton/Models/efficientnet_b0-script/config.pbtxt\n",
      "./Triton/Models/efficientnet_b0-script/1/model.pt\n"
     ]
    }
   ],
   "source": [
    "model_name = 'efficientnet_b0-script'\n",
    "\n",
    "transform = transforms.Compose([\n",
    "    transforms.Resize(256),\n",
    "    transforms.CenterCrop(224),\n",
    "    transforms.ToTensor(),\n",
    "    transforms.Normalize(mean=[0.485, 0.456, 0.406], std=[0.229, 0.224, 0.225])\n",
    "])\n",
    "\n",
    "model = torchvision.models.efficientnet_b0(pretrained=True)\n",
    "model = torch.jit.script(model)\n",
    "model = model.to(device)\n",
    "model = model.eval()\n",
    "\n",
    "triton_config = \"\"\"\n",
    "platform: \"pytorch_libtorch\"\n",
    "max_batch_size: 32\n",
    "input [\n",
    " {\n",
    "    name: \"input__0\"\n",
    "    data_type: TYPE_FP32\n",
    "    format: FORMAT_NCHW\n",
    "    dims: [ 3, 224, 224 ]\n",
    "  }\n",
    "]\n",
    "output {\n",
    "    name: \"output__0\"\n",
    "    data_type: TYPE_FP32\n",
    "    dims: [ 1000 ]\n",
    "  }\n",
    "\"\"\"\n",
    "\n",
    "save_transform(transform, model_name)\n",
    "save_flask_model(model, transform, model_name)\n",
    "save_triton_model(model, triton_config, model_name)"
   ]
  },
  {
   "cell_type": "code",
   "execution_count": 10,
   "id": "01237c71",
   "metadata": {},
   "outputs": [
    {
     "name": "stderr",
     "output_type": "stream",
     "text": [
      "Downloading: \"https://download.pytorch.org/models/efficientnet_b7_lukemelas-dcc49843.pth\" to /root/.cache/torch/hub/checkpoints/efficientnet_b7_lukemelas-dcc49843.pth\n"
     ]
    },
    {
     "data": {
      "application/json": {
       "ascii": false,
       "bar_format": null,
       "colour": null,
       "elapsed": 0.01220703125,
       "initial": 0,
       "n": 0,
       "ncols": null,
       "nrows": null,
       "postfix": null,
       "prefix": "",
       "rate": null,
       "total": 267046505,
       "unit": "B",
       "unit_divisor": 1024,
       "unit_scale": true
      },
      "application/vnd.jupyter.widget-view+json": {
       "model_id": "4d9aa25f034142eaaa51d71f25831fc3",
       "version_major": 2,
       "version_minor": 0
      },
      "text/plain": [
       "  0%|          | 0.00/255M [00:00<?, ?B/s]"
      ]
     },
     "metadata": {},
     "output_type": "display_data"
    },
    {
     "name": "stdout",
     "output_type": "stream",
     "text": [
      "./Transforms/efficientnet_b7.pt\n",
      "./Flask/Models/efficientnet_b7-script.pt\n",
      "./Triton/Models/efficientnet_b7-script/config.pbtxt\n",
      "./Triton/Models/efficientnet_b7-script/1/model.pt\n"
     ]
    }
   ],
   "source": [
    "model_name = 'efficientnet_b7-script'\n",
    "\n",
    "transform = transforms.Compose([\n",
    "    transforms.Resize(633),\n",
    "    transforms.CenterCrop(600),\n",
    "    transforms.ToTensor(),\n",
    "    transforms.Normalize(mean=[0.485, 0.456, 0.406], std=[0.229, 0.224, 0.225])\n",
    "])\n",
    "\n",
    "model = torchvision.models.efficientnet_b7(pretrained=True)\n",
    "model = torch.jit.script(model)\n",
    "model = model.to(device)\n",
    "model = model.eval()\n",
    "\n",
    "triton_config = \"\"\"\n",
    "platform: \"pytorch_libtorch\"\n",
    "max_batch_size: 32\n",
    "input [\n",
    " {\n",
    "    name: \"input__0\"\n",
    "    data_type: TYPE_FP32\n",
    "    format: FORMAT_NCHW\n",
    "    dims: [ 3, 600, 600 ]\n",
    "  }\n",
    "]\n",
    "output {\n",
    "    name: \"output__0\"\n",
    "    data_type: TYPE_FP32\n",
    "    dims: [ 1000 ]\n",
    "  }\n",
    "\"\"\"\n",
    "\n",
    "save_transform(transform, model_name)\n",
    "save_flask_model(model, transform, model_name)\n",
    "save_triton_model(model, triton_config, model_name)"
   ]
  }
 ],
 "metadata": {
  "kernelspec": {
   "display_name": "Python 3",
   "language": "python",
   "name": "python3"
  },
  "language_info": {
   "codemirror_mode": {
    "name": "ipython",
    "version": 3
   },
   "file_extension": ".py",
   "mimetype": "text/x-python",
   "name": "python",
   "nbconvert_exporter": "python",
   "pygments_lexer": "ipython3",
   "version": "3.6.9"
  }
 },
 "nbformat": 4,
 "nbformat_minor": 5
}
