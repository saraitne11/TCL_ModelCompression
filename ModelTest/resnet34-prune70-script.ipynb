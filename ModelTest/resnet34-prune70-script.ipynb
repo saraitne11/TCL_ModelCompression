{
 "cells": [
  {
   "cell_type": "code",
   "execution_count": 1,
   "id": "b446f7ef",
   "metadata": {},
   "outputs": [],
   "source": [
    "import torch\n",
    "import torchvision\n",
    "import torch.utils.data as data\n",
    "import torchvision.transforms as transforms\n",
    "\n",
    "from torchinfo import summary\n",
    "\n",
    "import numpy as np\n",
    "import time"
   ]
  },
  {
   "cell_type": "code",
   "execution_count": 2,
   "id": "0b3bccc9",
   "metadata": {},
   "outputs": [],
   "source": [
    "IMAGENET_DIR = '/ImageNet'\n",
    "MODEL_FILE = '../Flask/Models/resnet34-prune70-script.pt'\n",
    "BATCH_SIZE = 128\n",
    "LOADER_WORKERS = 4"
   ]
  },
  {
   "cell_type": "code",
   "execution_count": 3,
   "id": "ef3dcd7f",
   "metadata": {},
   "outputs": [
    {
     "name": "stdout",
     "output_type": "stream",
     "text": [
      "cuda:0\n"
     ]
    }
   ],
   "source": [
    "device = torch.device('cuda:0' if torch.cuda.is_available() else 'cpu')\n",
    "print(device)"
   ]
  },
  {
   "cell_type": "code",
   "execution_count": 4,
   "id": "981e76d3",
   "metadata": {
    "scrolled": true
   },
   "outputs": [],
   "source": [
    "model = torch.jit.load(MODEL_FILE)\n",
    "model = model.to(device)\n",
    "model = model.eval()"
   ]
  },
  {
   "cell_type": "code",
   "execution_count": 5,
   "id": "5f9ad29f",
   "metadata": {},
   "outputs": [
    {
     "data": {
      "text/plain": [
       "==========================================================================================\n",
       "Layer (type:depth-idx)                   Output Shape              Param #\n",
       "==========================================================================================\n",
       "ResNet                                   --                        --\n",
       "├─Conv2d: 1-1                            --                        9,408\n",
       "├─BatchNorm2d: 1-2                       --                        128\n",
       "├─ReLU: 1-3                              --                        --\n",
       "├─MaxPool2d: 1-4                         --                        --\n",
       "├─Sequential: 1-5                        --                        --\n",
       "│    └─BasicBlock: 2-1                   --                        --\n",
       "│    │    └─Conv2d: 3-1                  --                        36,864\n",
       "│    │    └─BatchNorm2d: 3-2             --                        128\n",
       "│    │    └─ReLU: 3-3                    --                        --\n",
       "│    │    └─Conv2d: 3-4                  --                        36,864\n",
       "│    │    └─BatchNorm2d: 3-5             --                        128\n",
       "│    └─BasicBlock: 2-2                   --                        --\n",
       "│    │    └─Conv2d: 3-6                  --                        36,864\n",
       "│    │    └─BatchNorm2d: 3-7             --                        128\n",
       "│    │    └─ReLU: 3-8                    --                        --\n",
       "│    │    └─Conv2d: 3-9                  --                        36,864\n",
       "│    │    └─BatchNorm2d: 3-10            --                        128\n",
       "│    └─BasicBlock: 2-3                   --                        --\n",
       "│    │    └─Conv2d: 3-11                 --                        36,864\n",
       "│    │    └─BatchNorm2d: 3-12            --                        128\n",
       "│    │    └─ReLU: 3-13                   --                        --\n",
       "│    │    └─Conv2d: 3-14                 --                        36,864\n",
       "│    │    └─BatchNorm2d: 3-15            --                        128\n",
       "├─Sequential: 1-6                        --                        --\n",
       "│    └─BasicBlock: 2-4                   --                        --\n",
       "│    │    └─Conv2d: 3-16                 --                        73,728\n",
       "│    │    └─BatchNorm2d: 3-17            --                        256\n",
       "│    │    └─ReLU: 3-18                   --                        --\n",
       "│    │    └─Conv2d: 3-19                 --                        147,456\n",
       "│    │    └─BatchNorm2d: 3-20            --                        256\n",
       "│    │    └─Sequential: 3-21             --                        8,448\n",
       "│    └─BasicBlock: 2-5                   --                        --\n",
       "│    │    └─Conv2d: 3-22                 --                        147,456\n",
       "│    │    └─BatchNorm2d: 3-23            --                        256\n",
       "│    │    └─ReLU: 3-24                   --                        --\n",
       "│    │    └─Conv2d: 3-25                 --                        147,456\n",
       "│    │    └─BatchNorm2d: 3-26            --                        256\n",
       "│    └─BasicBlock: 2-6                   --                        --\n",
       "│    │    └─Conv2d: 3-27                 --                        147,456\n",
       "│    │    └─BatchNorm2d: 3-28            --                        256\n",
       "│    │    └─ReLU: 3-29                   --                        --\n",
       "│    │    └─Conv2d: 3-30                 --                        147,456\n",
       "│    │    └─BatchNorm2d: 3-31            --                        256\n",
       "│    └─BasicBlock: 2-7                   --                        --\n",
       "│    │    └─Conv2d: 3-32                 --                        147,456\n",
       "│    │    └─BatchNorm2d: 3-33            --                        256\n",
       "│    │    └─ReLU: 3-34                   --                        --\n",
       "│    │    └─Conv2d: 3-35                 --                        147,456\n",
       "│    │    └─BatchNorm2d: 3-36            --                        256\n",
       "├─Sequential: 1-7                        --                        --\n",
       "│    └─BasicBlock: 2-8                   --                        --\n",
       "│    │    └─Conv2d: 3-37                 --                        294,912\n",
       "│    │    └─BatchNorm2d: 3-38            --                        512\n",
       "│    │    └─ReLU: 3-39                   --                        --\n",
       "│    │    └─Conv2d: 3-40                 --                        589,824\n",
       "│    │    └─BatchNorm2d: 3-41            --                        512\n",
       "│    │    └─Sequential: 3-42             --                        33,280\n",
       "│    └─BasicBlock: 2-9                   --                        --\n",
       "│    │    └─Conv2d: 3-43                 --                        589,824\n",
       "│    │    └─BatchNorm2d: 3-44            --                        512\n",
       "│    │    └─ReLU: 3-45                   --                        --\n",
       "│    │    └─Conv2d: 3-46                 --                        589,824\n",
       "│    │    └─BatchNorm2d: 3-47            --                        512\n",
       "│    └─BasicBlock: 2-10                  --                        --\n",
       "│    │    └─Conv2d: 3-48                 --                        589,824\n",
       "│    │    └─BatchNorm2d: 3-49            --                        512\n",
       "│    │    └─ReLU: 3-50                   --                        --\n",
       "│    │    └─Conv2d: 3-51                 --                        589,824\n",
       "│    │    └─BatchNorm2d: 3-52            --                        512\n",
       "│    └─BasicBlock: 2-11                  --                        --\n",
       "│    │    └─Conv2d: 3-53                 --                        589,824\n",
       "│    │    └─BatchNorm2d: 3-54            --                        512\n",
       "│    │    └─ReLU: 3-55                   --                        --\n",
       "│    │    └─Conv2d: 3-56                 --                        589,824\n",
       "│    │    └─BatchNorm2d: 3-57            --                        512\n",
       "│    └─BasicBlock: 2-12                  --                        --\n",
       "│    │    └─Conv2d: 3-58                 --                        589,824\n",
       "│    │    └─BatchNorm2d: 3-59            --                        512\n",
       "│    │    └─ReLU: 3-60                   --                        --\n",
       "│    │    └─Conv2d: 3-61                 --                        589,824\n",
       "│    │    └─BatchNorm2d: 3-62            --                        512\n",
       "│    └─BasicBlock: 2-13                  --                        --\n",
       "│    │    └─Conv2d: 3-63                 --                        589,824\n",
       "│    │    └─BatchNorm2d: 3-64            --                        512\n",
       "│    │    └─ReLU: 3-65                   --                        --\n",
       "│    │    └─Conv2d: 3-66                 --                        589,824\n",
       "│    │    └─BatchNorm2d: 3-67            --                        512\n",
       "├─Sequential: 1-8                        --                        --\n",
       "│    └─BasicBlock: 2-14                  --                        --\n",
       "│    │    └─Conv2d: 3-68                 --                        1,179,648\n",
       "│    │    └─BatchNorm2d: 3-69            --                        1,024\n",
       "│    │    └─ReLU: 3-70                   --                        --\n",
       "│    │    └─Conv2d: 3-71                 --                        2,359,296\n",
       "│    │    └─BatchNorm2d: 3-72            --                        1,024\n",
       "│    │    └─Sequential: 3-73             --                        132,096\n",
       "│    └─BasicBlock: 2-15                  --                        --\n",
       "│    │    └─Conv2d: 3-74                 --                        2,359,296\n",
       "│    │    └─BatchNorm2d: 3-75            --                        1,024\n",
       "│    │    └─ReLU: 3-76                   --                        --\n",
       "│    │    └─Conv2d: 3-77                 --                        2,359,296\n",
       "│    │    └─BatchNorm2d: 3-78            --                        1,024\n",
       "│    └─BasicBlock: 2-16                  --                        --\n",
       "│    │    └─Conv2d: 3-79                 --                        2,359,296\n",
       "│    │    └─BatchNorm2d: 3-80            --                        1,024\n",
       "│    │    └─ReLU: 3-81                   --                        --\n",
       "│    │    └─Conv2d: 3-82                 --                        2,359,296\n",
       "│    │    └─BatchNorm2d: 3-83            --                        1,024\n",
       "├─AdaptiveAvgPool2d: 1-9                 --                        --\n",
       "├─Linear: 1-10                           --                        513,000\n",
       "==========================================================================================\n",
       "Total params: 21,797,672\n",
       "Trainable params: 21,797,672\n",
       "Non-trainable params: 0\n",
       "Total mult-adds (M): 0.00\n",
       "==========================================================================================\n",
       "Input size (MB): 77.07\n",
       "Forward/backward pass size (MB): 0.00\n",
       "Params size (MB): 87.19\n",
       "Estimated Total Size (MB): 164.26\n",
       "=========================================================================================="
      ]
     },
     "execution_count": 5,
     "metadata": {},
     "output_type": "execute_result"
    }
   ],
   "source": [
    "summary(model, (BATCH_SIZE, 3, 224, 224))"
   ]
  },
  {
   "cell_type": "code",
   "execution_count": 6,
   "id": "24be5568",
   "metadata": {},
   "outputs": [],
   "source": [
    "transform = transforms.Compose([\n",
    "    transforms.Resize(256),\n",
    "    transforms.CenterCrop(224),\n",
    "    transforms.ToTensor(),\n",
    "    transforms.Normalize(mean=[0.485, 0.456, 0.406], std=[0.229, 0.224, 0.225])\n",
    "])"
   ]
  },
  {
   "cell_type": "code",
   "execution_count": 7,
   "id": "41adab44",
   "metadata": {},
   "outputs": [],
   "source": [
    "dataset = torchvision.datasets.ImageNet(root=IMAGENET_DIR, transform=transform, split='val')\n",
    "loader = data.DataLoader(dataset, batch_size=BATCH_SIZE, shuffle=False, num_workers=LOADER_WORKERS)"
   ]
  },
  {
   "cell_type": "code",
   "execution_count": 8,
   "id": "6ec92cf2",
   "metadata": {
    "scrolled": false
   },
   "outputs": [
    {
     "name": "stdout",
     "output_type": "stream",
     "text": [
      "step: 50000/50000\n",
      "top-1:  0.5258\n",
      "top-5:  0.7901\n",
      "Batch Size: 128\n",
      "Total Time: 79.9019 (0.0016)\n",
      "Average Prediction Time: 0.0035\n"
     ]
    }
   ],
   "source": [
    "n_top1 = 0\n",
    "n_top5 = 0\n",
    "cnt = 0\n",
    "\n",
    "s = time.time()\n",
    "pred_tms = []\n",
    "with torch.no_grad():\n",
    "    for images, labels in loader:\n",
    "\n",
    "        x = images.to(device)\n",
    "        y = labels.to(device)\n",
    "        \n",
    "        ss = time.time()\n",
    "        output = model(x)\n",
    "        pred_tms.append(time.time()-ss)\n",
    "        \n",
    "        cnt += output.size(0)\n",
    "        \n",
    "        _, pred_top1 = output.max(1)\n",
    "        _, pred_top5 = output.topk(5, 1, True, True)\n",
    "        \n",
    "        n_top1 += torch.eq(pred_top1, y).sum().item()\n",
    "        n_top5 += torch.isin(pred_top5, y).max(1)[0].sum().item()\n",
    "\n",
    "        print(f\"\\rstep: {cnt}/{len(dataset)}\", end='')\n",
    "        \n",
    "total_tm = time.time() - s\n",
    "print()\n",
    "print(f\"top-1:  {n_top1/cnt:0.4f}\")\n",
    "print(f\"top-5:  {n_top5/cnt:0.4f}\")\n",
    "print(f\"Batch Size: {BATCH_SIZE}\")\n",
    "print(f\"Total Time: {total_tm:0.4f} ({total_tm/len(dataset):0.4f})\")\n",
    "print(f\"Average Prediction Time: {np.mean(pred_tms):0.4f}\")"
   ]
  }
 ],
 "metadata": {
  "kernelspec": {
   "display_name": "Python 3 (ipykernel)",
   "language": "python",
   "name": "python3"
  },
  "language_info": {
   "codemirror_mode": {
    "name": "ipython",
    "version": 3
   },
   "file_extension": ".py",
   "mimetype": "text/x-python",
   "name": "python",
   "nbconvert_exporter": "python",
   "pygments_lexer": "ipython3",
   "version": "3.7.11"
  }
 },
 "nbformat": 4,
 "nbformat_minor": 5
}
