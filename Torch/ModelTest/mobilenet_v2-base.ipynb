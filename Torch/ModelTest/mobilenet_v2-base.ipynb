{
 "cells": [
  {
   "cell_type": "code",
   "execution_count": 1,
   "id": "bb12d101",
   "metadata": {},
   "outputs": [],
   "source": [
    "import torch\n",
    "import torchvision\n",
    "import torch.utils.data as data\n",
    "import torchvision.transforms as transforms\n",
    "\n",
    "from torchinfo import summary\n",
    "\n",
    "import numpy as np\n",
    "import time"
   ]
  },
  {
   "cell_type": "code",
   "execution_count": 2,
   "id": "8bf82c4f",
   "metadata": {},
   "outputs": [],
   "source": [
    "IMAGENET_DIR = '/home/data/ImageNet'\n",
    "# IMAGENET_DIR = 'D:/ImageNet'\n",
    "BATCH_SIZE = 128\n",
    "LOADER_WORKERS = 4"
   ]
  },
  {
   "cell_type": "code",
   "execution_count": 3,
   "id": "282c5689",
   "metadata": {},
   "outputs": [
    {
     "name": "stdout",
     "output_type": "stream",
     "text": [
      "cuda:0\n"
     ]
    }
   ],
   "source": [
    "device = torch.device('cuda:0' if torch.cuda.is_available() else 'cpu')\n",
    "print(device)"
   ]
  },
  {
   "cell_type": "code",
   "execution_count": 4,
   "id": "91deb93c",
   "metadata": {
    "scrolled": true
   },
   "outputs": [],
   "source": [
    "model = torchvision.models.mobilenet_v2(pretrained=True)\n",
    "model = model.to(device)\n",
    "model = model.eval()"
   ]
  },
  {
   "cell_type": "code",
   "execution_count": 5,
   "id": "b2eccee0",
   "metadata": {
    "scrolled": true
   },
   "outputs": [
    {
     "data": {
      "text/plain": [
       "===============================================================================================\n",
       "Layer (type:depth-idx)                        Output Shape              Param #\n",
       "===============================================================================================\n",
       "MobileNetV2                                   [128, 1000]               --\n",
       "├─Sequential: 1-1                             [128, 1280, 7, 7]         --\n",
       "│    └─ConvNormActivation: 2-1                [128, 32, 112, 112]       --\n",
       "│    │    └─Conv2d: 3-1                       [128, 32, 112, 112]       864\n",
       "│    │    └─BatchNorm2d: 3-2                  [128, 32, 112, 112]       64\n",
       "│    │    └─ReLU6: 3-3                        [128, 32, 112, 112]       --\n",
       "│    └─InvertedResidual: 2-2                  [128, 16, 112, 112]       --\n",
       "│    │    └─Sequential: 3-4                   [128, 16, 112, 112]       896\n",
       "│    └─InvertedResidual: 2-3                  [128, 24, 56, 56]         --\n",
       "│    │    └─Sequential: 3-5                   [128, 24, 56, 56]         5,136\n",
       "│    └─InvertedResidual: 2-4                  [128, 24, 56, 56]         --\n",
       "│    │    └─Sequential: 3-6                   [128, 24, 56, 56]         8,832\n",
       "│    └─InvertedResidual: 2-5                  [128, 32, 28, 28]         --\n",
       "│    │    └─Sequential: 3-7                   [128, 32, 28, 28]         10,000\n",
       "│    └─InvertedResidual: 2-6                  [128, 32, 28, 28]         --\n",
       "│    │    └─Sequential: 3-8                   [128, 32, 28, 28]         14,848\n",
       "│    └─InvertedResidual: 2-7                  [128, 32, 28, 28]         --\n",
       "│    │    └─Sequential: 3-9                   [128, 32, 28, 28]         14,848\n",
       "│    └─InvertedResidual: 2-8                  [128, 64, 14, 14]         --\n",
       "│    │    └─Sequential: 3-10                  [128, 64, 14, 14]         21,056\n",
       "│    └─InvertedResidual: 2-9                  [128, 64, 14, 14]         --\n",
       "│    │    └─Sequential: 3-11                  [128, 64, 14, 14]         54,272\n",
       "│    └─InvertedResidual: 2-10                 [128, 64, 14, 14]         --\n",
       "│    │    └─Sequential: 3-12                  [128, 64, 14, 14]         54,272\n",
       "│    └─InvertedResidual: 2-11                 [128, 64, 14, 14]         --\n",
       "│    │    └─Sequential: 3-13                  [128, 64, 14, 14]         54,272\n",
       "│    └─InvertedResidual: 2-12                 [128, 96, 14, 14]         --\n",
       "│    │    └─Sequential: 3-14                  [128, 96, 14, 14]         66,624\n",
       "│    └─InvertedResidual: 2-13                 [128, 96, 14, 14]         --\n",
       "│    │    └─Sequential: 3-15                  [128, 96, 14, 14]         118,272\n",
       "│    └─InvertedResidual: 2-14                 [128, 96, 14, 14]         --\n",
       "│    │    └─Sequential: 3-16                  [128, 96, 14, 14]         118,272\n",
       "│    └─InvertedResidual: 2-15                 [128, 160, 7, 7]          --\n",
       "│    │    └─Sequential: 3-17                  [128, 160, 7, 7]          155,264\n",
       "│    └─InvertedResidual: 2-16                 [128, 160, 7, 7]          --\n",
       "│    │    └─Sequential: 3-18                  [128, 160, 7, 7]          320,000\n",
       "│    └─InvertedResidual: 2-17                 [128, 160, 7, 7]          --\n",
       "│    │    └─Sequential: 3-19                  [128, 160, 7, 7]          320,000\n",
       "│    └─InvertedResidual: 2-18                 [128, 320, 7, 7]          --\n",
       "│    │    └─Sequential: 3-20                  [128, 320, 7, 7]          473,920\n",
       "│    └─ConvNormActivation: 2-19               [128, 1280, 7, 7]         --\n",
       "│    │    └─Conv2d: 3-21                      [128, 1280, 7, 7]         409,600\n",
       "│    │    └─BatchNorm2d: 3-22                 [128, 1280, 7, 7]         2,560\n",
       "│    │    └─ReLU6: 3-23                       [128, 1280, 7, 7]         --\n",
       "├─Sequential: 1-2                             [128, 1000]               --\n",
       "│    └─Dropout: 2-20                          [128, 1280]               --\n",
       "│    └─Linear: 2-21                           [128, 1000]               1,281,000\n",
       "===============================================================================================\n",
       "Total params: 3,504,872\n",
       "Trainable params: 3,504,872\n",
       "Non-trainable params: 0\n",
       "Total mult-adds (G): 38.50\n",
       "===============================================================================================\n",
       "Input size (MB): 77.07\n",
       "Forward/backward pass size (MB): 13677.80\n",
       "Params size (MB): 14.02\n",
       "Estimated Total Size (MB): 13768.89\n",
       "==============================================================================================="
      ]
     },
     "execution_count": 5,
     "metadata": {},
     "output_type": "execute_result"
    }
   ],
   "source": [
    "summary(model, (BATCH_SIZE, 3, 224, 224))"
   ]
  },
  {
   "cell_type": "code",
   "execution_count": 6,
   "id": "c33406eb",
   "metadata": {},
   "outputs": [],
   "source": [
    "transform = transforms.Compose([\n",
    "    transforms.Resize(256),\n",
    "    transforms.CenterCrop(224),\n",
    "    transforms.ToTensor(),\n",
    "    transforms.Normalize(mean=[0.485, 0.456, 0.406], std=[0.229, 0.224, 0.225])\n",
    "])"
   ]
  },
  {
   "cell_type": "code",
   "execution_count": 7,
   "id": "c8090e75",
   "metadata": {},
   "outputs": [],
   "source": [
    "dataset = torchvision.datasets.ImageNet(root=IMAGENET_DIR, transform=transform, split='val')\n",
    "loader = data.DataLoader(dataset, batch_size=BATCH_SIZE, shuffle=False, num_workers=LOADER_WORKERS)"
   ]
  },
  {
   "cell_type": "code",
   "execution_count": 8,
   "id": "58268ff9",
   "metadata": {},
   "outputs": [
    {
     "name": "stdout",
     "output_type": "stream",
     "text": [
      "step: 50000/50000\n",
      "top-1:  0.7187\n",
      "top-5:  0.9113\n",
      "Batch Size: 128\n",
      "Total Time: 47.6010 (0.0010)\n",
      "Average Prediction Time: 0.0050\n"
     ]
    }
   ],
   "source": [
    "n_top1 = 0\n",
    "n_top5 = 0\n",
    "cnt = 0\n",
    "\n",
    "s = time.time()\n",
    "pred_tms = []\n",
    "with torch.no_grad():\n",
    "    for images, labels in loader:\n",
    "\n",
    "        x = images.to(device)\n",
    "        y = labels.to(device)\n",
    "        \n",
    "        ss = time.time()\n",
    "        output = model(x)\n",
    "        pred_tms.append(time.time()-ss)\n",
    "        \n",
    "        cnt += output.size(0)\n",
    "        \n",
    "        _, pred_top1 = output.max(1)\n",
    "        _, pred_top5 = output.topk(5, 1, True, True)\n",
    "        \n",
    "        n_top1 += torch.eq(pred_top1, y).sum().item()\n",
    "        n_top5 += torch.isin(pred_top5, y).max(1)[0].sum().item()\n",
    "\n",
    "        print(f\"\\rstep: {cnt}/{len(dataset)}\", end='')\n",
    "total_tm = time.time() - s\n",
    "print()\n",
    "print(f\"top-1:  {n_top1/cnt:0.4f}\")\n",
    "print(f\"top-5:  {n_top5/cnt:0.4f}\")\n",
    "print(f\"Batch Size: {BATCH_SIZE}\")\n",
    "print(f\"Total Time: {total_tm:0.4f} ({total_tm/len(dataset):0.4f})\")\n",
    "print(f\"Average Prediction Time: {np.mean(pred_tms):0.4f}\")"
   ]
  }
 ],
 "metadata": {
  "kernelspec": {
   "display_name": "tcl",
   "language": "python",
   "name": "tcl"
  },
  "language_info": {
   "codemirror_mode": {
    "name": "ipython",
    "version": 3
   },
   "file_extension": ".py",
   "mimetype": "text/x-python",
   "name": "python",
   "nbconvert_exporter": "python",
   "pygments_lexer": "ipython3",
   "version": "3.8.13"
  }
 },
 "nbformat": 4,
 "nbformat_minor": 5
}
