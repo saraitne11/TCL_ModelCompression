{
 "cells": [
  {
   "cell_type": "code",
   "execution_count": 1,
   "id": "bb12d101",
   "metadata": {},
   "outputs": [],
   "source": [
    "import torch\n",
    "import torchvision\n",
    "import torch.utils.data as data\n",
    "import torchvision.transforms as transforms\n",
    "\n",
    "from torchinfo import summary\n",
    "\n",
    "import numpy as np\n",
    "import time"
   ]
  },
  {
   "cell_type": "code",
   "execution_count": 2,
   "id": "24b79ac3",
   "metadata": {},
   "outputs": [],
   "source": [
    "IMAGENET_DIR = '/home/data/ImageNet'\n",
    "MODEL_FILE = '../Flask/Models/efficientnet_b0-script.pt'\n",
    "BATCH_SIZE = 128\n",
    "LOADER_WORKERS = 4"
   ]
  },
  {
   "cell_type": "code",
   "execution_count": 3,
   "id": "282c5689",
   "metadata": {},
   "outputs": [
    {
     "name": "stdout",
     "output_type": "stream",
     "text": [
      "cuda:0\n"
     ]
    }
   ],
   "source": [
    "device = torch.device('cuda:0' if torch.cuda.is_available() else 'cpu')\n",
    "print(device)"
   ]
  },
  {
   "cell_type": "code",
   "execution_count": 4,
   "id": "91deb93c",
   "metadata": {
    "scrolled": true
   },
   "outputs": [],
   "source": [
    "model = torch.jit.load(MODEL_FILE)\n",
    "model = model.to(device)\n",
    "model = model.eval()"
   ]
  },
  {
   "cell_type": "code",
   "execution_count": 5,
   "id": "ddda8df7",
   "metadata": {
    "scrolled": true
   },
   "outputs": [
    {
     "data": {
      "text/plain": [
       "=========================================================================================================\n",
       "Layer (type:depth-idx)                                  Output Shape              Param #\n",
       "=========================================================================================================\n",
       "EfficientNet                                            --                        --\n",
       "├─Sequential: 1-1                                       --                        --\n",
       "│    └─ConvNormActivation: 2-1                          --                        --\n",
       "│    │    └─Conv2d: 3-1                                 --                        864\n",
       "│    │    └─BatchNorm2d: 3-2                            --                        64\n",
       "│    │    └─SiLU: 3-3                                   --                        --\n",
       "│    └─Sequential: 2-2                                  --                        --\n",
       "│    │    └─MBConv: 3-4                                 --                        1,448\n",
       "│    └─Sequential: 2-3                                  --                        --\n",
       "│    │    └─MBConv: 3-5                                 --                        6,004\n",
       "│    │    └─MBConv: 3-6                                 --                        10,710\n",
       "│    └─Sequential: 2-4                                  --                        --\n",
       "│    │    └─MBConv: 3-7                                 --                        15,350\n",
       "│    │    └─MBConv: 3-8                                 --                        31,290\n",
       "│    └─Sequential: 2-5                                  --                        --\n",
       "│    │    └─MBConv: 3-9                                 --                        37,130\n",
       "│    │    └─MBConv: 3-10                                --                        102,900\n",
       "│    │    └─MBConv: 3-11                                --                        102,900\n",
       "│    └─Sequential: 2-6                                  --                        --\n",
       "│    │    └─MBConv: 3-12                                --                        126,004\n",
       "│    │    └─MBConv: 3-13                                --                        208,572\n",
       "│    │    └─MBConv: 3-14                                --                        208,572\n",
       "│    └─Sequential: 2-7                                  --                        --\n",
       "│    │    └─MBConv: 3-15                                --                        262,492\n",
       "│    │    └─MBConv: 3-16                                --                        587,952\n",
       "│    │    └─MBConv: 3-17                                --                        587,952\n",
       "│    │    └─MBConv: 3-18                                --                        587,952\n",
       "│    └─Sequential: 2-8                                  --                        --\n",
       "│    │    └─MBConv: 3-19                                --                        717,232\n",
       "│    └─ConvNormActivation: 2-9                          --                        --\n",
       "│    │    └─Conv2d: 3-20                                --                        409,600\n",
       "│    │    └─BatchNorm2d: 3-21                           --                        2,560\n",
       "│    │    └─SiLU: 3-22                                  --                        --\n",
       "├─AdaptiveAvgPool2d: 1-2                                --                        --\n",
       "├─Sequential: 1-3                                       --                        --\n",
       "│    └─Dropout: 2-10                                    --                        --\n",
       "│    └─Linear: 2-11                                     --                        1,281,000\n",
       "=========================================================================================================\n",
       "Total params: 5,288,548\n",
       "Trainable params: 5,288,548\n",
       "Non-trainable params: 0\n",
       "Total mult-adds (M): 0.00\n",
       "=========================================================================================================\n",
       "Input size (MB): 77.07\n",
       "Forward/backward pass size (MB): 0.00\n",
       "Params size (MB): 21.15\n",
       "Estimated Total Size (MB): 98.22\n",
       "========================================================================================================="
      ]
     },
     "execution_count": 5,
     "metadata": {},
     "output_type": "execute_result"
    }
   ],
   "source": [
    "summary(model, (BATCH_SIZE, 3, 224, 224))"
   ]
  },
  {
   "cell_type": "code",
   "execution_count": 6,
   "id": "888cd7bd",
   "metadata": {},
   "outputs": [],
   "source": [
    "transform = transforms.Compose([\n",
    "    transforms.Resize(256),\n",
    "    transforms.CenterCrop(224),\n",
    "    transforms.ToTensor(),\n",
    "    transforms.Normalize(mean=[0.485, 0.456, 0.406], std=[0.229, 0.224, 0.225])\n",
    "])"
   ]
  },
  {
   "cell_type": "code",
   "execution_count": 7,
   "id": "7c5268c6",
   "metadata": {},
   "outputs": [],
   "source": [
    "dataset = torchvision.datasets.ImageNet(root=IMAGENET_DIR, transform=transform, split='val')\n",
    "loader = data.DataLoader(dataset, batch_size=BATCH_SIZE, shuffle=False, num_workers=LOADER_WORKERS)"
   ]
  },
  {
   "cell_type": "code",
   "execution_count": 8,
   "id": "2c05f56d",
   "metadata": {},
   "outputs": [
    {
     "name": "stdout",
     "output_type": "stream",
     "text": [
      "step: 50000/50000\n",
      "top-1:  0.7768\n",
      "top-5:  0.9419\n",
      "Batch Size: 128\n",
      "Total Time: 48.4361 (0.0010)\n",
      "Average Prediction Time: 0.0099\n"
     ]
    }
   ],
   "source": [
    "n_top1 = 0\n",
    "n_top5 = 0\n",
    "cnt = 0\n",
    "\n",
    "s = time.time()\n",
    "pred_tms = []\n",
    "with torch.no_grad():\n",
    "    for images, labels in loader:\n",
    "\n",
    "        x = images.to(device)\n",
    "        y = labels.to(device)\n",
    "        \n",
    "        ss = time.time()\n",
    "        output = model(x)\n",
    "        pred_tms.append(time.time()-ss)\n",
    "        \n",
    "        cnt += output.size(0)\n",
    "        \n",
    "        _, pred_top1 = output.max(1)\n",
    "        _, pred_top5 = output.topk(5, 1, True, True)\n",
    "        \n",
    "        n_top1 += torch.eq(pred_top1, y).sum().item()\n",
    "        n_top5 += torch.isin(pred_top5, y).max(1)[0].sum().item()\n",
    "\n",
    "        print(f\"\\rstep: {cnt}/{len(dataset)}\", end='')\n",
    "        \n",
    "total_tm = time.time() - s\n",
    "print()\n",
    "print(f\"top-1:  {n_top1/cnt:0.4f}\")\n",
    "print(f\"top-5:  {n_top5/cnt:0.4f}\")\n",
    "print(f\"Batch Size: {BATCH_SIZE}\")\n",
    "print(f\"Total Time: {total_tm:0.4f} ({total_tm/len(dataset):0.4f})\")\n",
    "print(f\"Average Prediction Time: {np.mean(pred_tms):0.4f}\")"
   ]
  }
 ],
 "metadata": {
  "kernelspec": {
   "display_name": "tcl",
   "language": "python",
   "name": "tcl"
  },
  "language_info": {
   "codemirror_mode": {
    "name": "ipython",
    "version": 3
   },
   "file_extension": ".py",
   "mimetype": "text/x-python",
   "name": "python",
   "nbconvert_exporter": "python",
   "pygments_lexer": "ipython3",
   "version": "3.8.14"
  }
 },
 "nbformat": 4,
 "nbformat_minor": 5
}
