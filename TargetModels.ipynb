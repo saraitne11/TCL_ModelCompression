{
 "cells": [
  {
   "cell_type": "markdown",
   "id": "92f44984",
   "metadata": {},
   "source": [
    "## TargetModels\n",
    "\n",
    "### ResNet152\n",
    "- Tensorflow: https://www.tensorflow.org/api_docs/python/tf/keras/applications/resnet/ResNet152\n",
    "- Torch: https://pytorch.org/vision/stable/models/generated/torchvision.models.resnet152.html#torchvision.models.resnet152\n",
    "\n",
    "### DensNet201\n",
    "- Tensorflow: https://www.tensorflow.org/api_docs/python/tf/keras/applications/densenet/DenseNet201\n",
    "- Torch: https://pytorch.org/vision/stable/models/generated/torchvision.models.densenet201.html#torchvision.models.densenet201\n",
    "\n",
    "### MobileNetV2\n",
    "- Tensorflow: https://www.tensorflow.org/api_docs/python/tf/keras/applications/mobilenet_v2/MobileNetV2\n",
    "- Torch: https://pytorch.org/vision/stable/models/generated/torchvision.models.mobilenet_v2.html#torchvision.models.mobilenet_v2\n",
    "\n",
    "### EfficientNetB7\n",
    "- Tensorflow: https://www.tensorflow.org/api_docs/python/tf/keras/applications/efficientnet/EfficientNetB7\n",
    "- Torch: https://pytorch.org/vision/stable/models/generated/torchvision.models.efficientnet_b7.html#torchvision.models.efficientnet_b7"
   ]
  }
 ],
 "metadata": {
  "kernelspec": {
   "display_name": "Python 3 (ipykernel)",
   "language": "python",
   "name": "python3"
  },
  "language_info": {
   "codemirror_mode": {
    "name": "ipython",
    "version": 3
   },
   "file_extension": ".py",
   "mimetype": "text/x-python",
   "name": "python",
   "nbconvert_exporter": "python",
   "pygments_lexer": "ipython3",
   "version": "3.10.4"
  }
 },
 "nbformat": 4,
 "nbformat_minor": 5
}
