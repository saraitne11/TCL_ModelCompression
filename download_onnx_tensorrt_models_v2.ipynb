{
 "cells": [
  {
   "cell_type": "code",
   "execution_count": 3,
   "id": "9eddc872",
   "metadata": {},
   "outputs": [
    {
     "name": "stdout",
     "output_type": "stream",
     "text": [
      "/bin/bash: trtexec: command not found\r\n"
     ]
    }
   ],
   "source": [
    "!trtexec"
   ]
  },
  {
   "cell_type": "code",
   "execution_count": 2,
   "id": "f34e134a",
   "metadata": {},
   "outputs": [],
   "source": [
    "import os"
   ]
  },
  {
   "cell_type": "code",
   "execution_count": 3,
   "id": "494fa7d1",
   "metadata": {},
   "outputs": [],
   "source": [
    "ONNX_MODEL_DIR = './Flask/Models/'\n",
    "\n",
    "FLASK_MODEL_DIR = './Flask/Models/'\n",
    "\n",
    "TRITON_MODEL_DIR = './Triton/Models/'\n",
    "TRITON_CONFIG_FILE = 'config.pbtxt'\n",
    "TRITON_MODEL_FILE = 'model.plan'"
   ]
  },
  {
   "cell_type": "code",
   "execution_count": 4,
   "id": "b3386000",
   "metadata": {},
   "outputs": [],
   "source": [
    "def save_tensorrt_model(onnx_model, trt_model, precision, config):\n",
    "    trt_model = trt_model + '_' + precision\n",
    "    onnx_model_path = os.path.join(ONNX_MODEL_DIR, onnx_model + '.onnx')\n",
    "    flask_model_path = os.path.join(FLASK_MODEL_DIR, trt_model + '.plan')\n",
    "\n",
    "    !trtexec \\\n",
    "        --onnx=$onnx_model_path \\\n",
    "        --explicitBatch \\\n",
    "        --$precision \\\n",
    "        --saveEngine=$flask_model_path\n",
    "\n",
    "    triton_config_path = os.path.join(TRITON_MODEL_DIR, trt_model, TRITON_CONFIG_FILE)\n",
    "    os.makedirs(os.path.dirname(triton_config_path), exist_ok=True)\n",
    "    with open(triton_config_path, 'w') as f:\n",
    "        f.write(config.strip())\n",
    "\n",
    "    triton_model_path = os.path.join(TRITON_MODEL_DIR, trt_model, '1', TRITON_MODEL_FILE)\n",
    "    os.makedirs(os.path.dirname(triton_model_path), exist_ok=True)\n",
    "    !cp $flask_model_path $triton_model_path\n",
    "        \n",
    "    print(flask_model_path)\n",
    "    print(triton_config_path)\n",
    "    print(triton_model_path)\n",
    "    return"
   ]
  },
  {
   "cell_type": "code",
   "execution_count": 5,
   "id": "c9df9d04",
   "metadata": {},
   "outputs": [
    {
     "name": "stdout",
     "output_type": "stream",
     "text": [
      "/bin/sh: 1: trtexec: not found\n",
      "cp: cannot stat './Flask/Models/resnet34-trt-64_best.plan': No such file or directory\n",
      "./Flask/Models/resnet34-trt-64_best.plan\n",
      "./Triton/Models/resnet34-trt-64_best/config.pbtxt\n",
      "./Triton/Models/resnet34-trt-64_best/1/model.plan\n"
     ]
    }
   ],
   "source": [
    "onnx_model = 'resnet34-onnx-64'\n",
    "trt_model = 'resnet34-trt-64'\n",
    "precision = 'best'\n",
    "triton_config = \"\"\"\n",
    "platform: \"tensorrt_plan\"\n",
    "max_batch_size: 1\n",
    "input [\n",
    " {\n",
    "    name: \"input__0\"\n",
    "    data_type: TYPE_FP32\n",
    "    format: FORMAT_NCHW\n",
    "    dims: [ 3, 64, 64 ]\n",
    "  }\n",
    "]\n",
    "output {\n",
    "    name: \"output__0\"\n",
    "    data_type: TYPE_FP32\n",
    "    dims: [ 1000 ]\n",
    "  }\n",
    "\"\"\"\n",
    "save_tensorrt_model(onnx_model, trt_model, precision, triton_config)"
   ]
  },
  {
   "cell_type": "code",
   "execution_count": 6,
   "id": "87cfdc4e",
   "metadata": {},
   "outputs": [
    {
     "name": "stdout",
     "output_type": "stream",
     "text": [
      "/bin/sh: 1: trtexec: not found\n",
      "cp: cannot stat './Flask/Models/resnet34-trt-64_fp16.plan': No such file or directory\n",
      "./Flask/Models/resnet34-trt-64_fp16.plan\n",
      "./Triton/Models/resnet34-trt-64_fp16/config.pbtxt\n",
      "./Triton/Models/resnet34-trt-64_fp16/1/model.plan\n"
     ]
    }
   ],
   "source": [
    "onnx_model = 'resnet34-onnx-64'\n",
    "trt_model = 'resnet34-trt-64'\n",
    "precision = 'fp16'\n",
    "triton_config = \"\"\"\n",
    "platform: \"tensorrt_plan\"\n",
    "max_batch_size: 1\n",
    "input [\n",
    " {\n",
    "    name: \"input__0\"\n",
    "    data_type: TYPE_FP32\n",
    "    format: FORMAT_NCHW\n",
    "    dims: [ 3, 64, 64 ]\n",
    "  }\n",
    "]\n",
    "output {\n",
    "    name: \"output__0\"\n",
    "    data_type: TYPE_FP32\n",
    "    dims: [ 1000 ]\n",
    "  }\n",
    "\"\"\"\n",
    "save_tensorrt_model(onnx_model, trt_model, precision, triton_config)"
   ]
  },
  {
   "cell_type": "code",
   "execution_count": 7,
   "id": "443ffb9f",
   "metadata": {},
   "outputs": [
    {
     "name": "stdout",
     "output_type": "stream",
     "text": [
      "/bin/sh: 1: trtexec: not found\n",
      "cp: cannot stat './Flask/Models/resnet34-trt-128_fp16.plan': No such file or directory\n",
      "./Flask/Models/resnet34-trt-128_fp16.plan\n",
      "./Triton/Models/resnet34-trt-128_fp16/config.pbtxt\n",
      "./Triton/Models/resnet34-trt-128_fp16/1/model.plan\n"
     ]
    }
   ],
   "source": [
    "onnx_model = 'resnet34-onnx-128'\n",
    "trt_model = 'resnet34-trt-128'\n",
    "precision = 'fp16'\n",
    "triton_config = \"\"\"\n",
    "platform: \"tensorrt_plan\"\n",
    "max_batch_size: 1\n",
    "input [\n",
    " {\n",
    "    name: \"input__0\"\n",
    "    data_type: TYPE_FP32\n",
    "    format: FORMAT_NCHW\n",
    "    dims: [ 3, 128, 128 ]\n",
    "  }\n",
    "]\n",
    "output {\n",
    "    name: \"output__0\"\n",
    "    data_type: TYPE_FP32\n",
    "    dims: [ 1000 ]\n",
    "  }\n",
    "\"\"\"\n",
    "\n",
    "save_tensorrt_model(onnx_model, trt_model, precision, triton_config)"
   ]
  },
  {
   "cell_type": "code",
   "execution_count": 8,
   "id": "5dc3c391",
   "metadata": {},
   "outputs": [
    {
     "name": "stdout",
     "output_type": "stream",
     "text": [
      "/bin/sh: 1: trtexec: not found\n",
      "cp: cannot stat './Flask/Models/resnet34-trt-256_fp16.plan': No such file or directory\n",
      "./Flask/Models/resnet34-trt-256_fp16.plan\n",
      "./Triton/Models/resnet34-trt-256_fp16/config.pbtxt\n",
      "./Triton/Models/resnet34-trt-256_fp16/1/model.plan\n"
     ]
    }
   ],
   "source": [
    "onnx_model = 'resnet34-onnx-256'\n",
    "trt_model = 'resnet34-trt-256'\n",
    "precision = 'fp16'\n",
    "triton_config = \"\"\"\n",
    "platform: \"tensorrt_plan\"\n",
    "max_batch_size: 1\n",
    "input [\n",
    " {\n",
    "    name: \"input__0\"\n",
    "    data_type: TYPE_FP32\n",
    "    format: FORMAT_NCHW\n",
    "    dims: [ 3, 256, 256 ]\n",
    "  }\n",
    "]\n",
    "output {\n",
    "    name: \"output__0\"\n",
    "    data_type: TYPE_FP32\n",
    "    dims: [ 1000 ]\n",
    "  }\n",
    "\"\"\"\n",
    "save_tensorrt_model(onnx_model, trt_model, precision, triton_config)"
   ]
  },
  {
   "cell_type": "code",
   "execution_count": 9,
   "id": "0a2364d5",
   "metadata": {},
   "outputs": [
    {
     "name": "stdout",
     "output_type": "stream",
     "text": [
      "/bin/sh: 1: trtexec: not found\n",
      "cp: cannot stat './Flask/Models/resnet34-trt-512_fp16.plan': No such file or directory\n",
      "./Flask/Models/resnet34-trt-512_fp16.plan\n",
      "./Triton/Models/resnet34-trt-512_fp16/config.pbtxt\n",
      "./Triton/Models/resnet34-trt-512_fp16/1/model.plan\n"
     ]
    }
   ],
   "source": [
    "onnx_model = 'resnet34-onnx-512'\n",
    "trt_model = 'resnet34-trt-512'\n",
    "precision = 'fp16'\n",
    "triton_config = \"\"\"\n",
    "platform: \"tensorrt_plan\"\n",
    "max_batch_size: 1\n",
    "input [\n",
    " {\n",
    "    name: \"input__0\"\n",
    "    data_type: TYPE_FP32\n",
    "    format: FORMAT_NCHW\n",
    "    dims: [ 3, 512, 512 ]\n",
    "  }\n",
    "]\n",
    "output {\n",
    "    name: \"output__0\"\n",
    "    data_type: TYPE_FP32\n",
    "    dims: [ 1000 ]\n",
    "  }\n",
    "\"\"\"\n",
    "save_tensorrt_model(onnx_model, trt_model, precision, triton_config)"
   ]
  },
  {
   "cell_type": "code",
   "execution_count": 10,
   "id": "03a89e30",
   "metadata": {},
   "outputs": [
    {
     "name": "stdout",
     "output_type": "stream",
     "text": [
      "/bin/sh: 1: trtexec: not found\n",
      "cp: cannot stat './Flask/Models/resnet34-trt-1024_fp16.plan': No such file or directory\n",
      "./Flask/Models/resnet34-trt-1024_fp16.plan\n",
      "./Triton/Models/resnet34-trt-1024_fp16/config.pbtxt\n",
      "./Triton/Models/resnet34-trt-1024_fp16/1/model.plan\n"
     ]
    }
   ],
   "source": [
    "onnx_model = 'resnet34-onnx-1024'\n",
    "trt_model = 'resnet34-trt-1024'\n",
    "precision = 'fp16'\n",
    "triton_config = \"\"\"\n",
    "platform: \"tensorrt_plan\"\n",
    "max_batch_size: 1\n",
    "input [\n",
    " {\n",
    "    name: \"input__0\"\n",
    "    data_type: TYPE_FP32\n",
    "    format: FORMAT_NCHW\n",
    "    dims: [ 3, 1024, 1024 ]\n",
    "  }\n",
    "]\n",
    "output {\n",
    "    name: \"output__0\"\n",
    "    data_type: TYPE_FP32\n",
    "    dims: [ 1000 ]\n",
    "  }\n",
    "\"\"\"\n",
    "save_tensorrt_model(onnx_model, trt_model, precision, triton_config)"
   ]
  },
  {
   "cell_type": "code",
   "execution_count": null,
   "id": "402b4c11",
   "metadata": {},
   "outputs": [],
   "source": []
  },
  {
   "cell_type": "code",
   "execution_count": 7,
   "id": "0fa99ca4",
   "metadata": {},
   "outputs": [
    {
     "name": "stdout",
     "output_type": "stream",
     "text": [
      "/bin/sh: 1: trtexec: not found\n",
      "cp: cannot stat './Flask/Models/resnet34-trt_int8.plan': No such file or directory\n",
      "./Flask/Models/resnet34-trt_int8.plan\n",
      "./Triton/Models/resnet34-trt_int8/config.pbtxt\n",
      "./Triton/Models/resnet34-trt_int8/1/model.plan\n"
     ]
    }
   ],
   "source": [
    "onnx_model = 'resnet34-onnx'\n",
    "trt_model = 'resnet34-trt'\n",
    "precision = 'int8'\n",
    "triton_config = \"\"\"\n",
    "platform: \"tensorrt_plan\"\n",
    "max_batch_size: 1\n",
    "input [\n",
    " {\n",
    "    name: \"input__0\"\n",
    "    data_type: TYPE_FP32\n",
    "    format: FORMAT_NCHW\n",
    "    dims: [ 3, 224, 224 ]\n",
    "  }\n",
    "]\n",
    "output {\n",
    "    name: \"output__0\"\n",
    "    data_type: TYPE_FP32\n",
    "    dims: [ 1000 ]\n",
    "  }\n",
    "\"\"\"\n",
    "save_tensorrt_model(onnx_model, trt_model, precision, triton_config)"
   ]
  },
  {
   "cell_type": "code",
   "execution_count": 8,
   "id": "221adaf7",
   "metadata": {},
   "outputs": [
    {
     "name": "stdout",
     "output_type": "stream",
     "text": [
      "/bin/sh: 1: trtexec: not found\n",
      "cp: cannot stat './Flask/Models/mobilenet_v2-trt_best.plan': No such file or directory\n",
      "./Flask/Models/mobilenet_v2-trt_best.plan\n",
      "./Triton/Models/mobilenet_v2-trt_best/config.pbtxt\n",
      "./Triton/Models/mobilenet_v2-trt_best/1/model.plan\n"
     ]
    }
   ],
   "source": [
    "onnx_model = 'mobilenet_v2-onnx'\n",
    "trt_model = 'mobilenet_v2-trt'\n",
    "precision = 'best'\n",
    "triton_config = \"\"\"\n",
    "platform: \"tensorrt_plan\"\n",
    "max_batch_size: 1\n",
    "input [\n",
    " {\n",
    "    name: \"input__0\"\n",
    "    data_type: TYPE_FP32\n",
    "    format: FORMAT_NCHW\n",
    "    dims: [ 3, 224, 224 ]\n",
    "  }\n",
    "]\n",
    "output {\n",
    "    name: \"output__0\"\n",
    "    data_type: TYPE_FP32\n",
    "    dims: [ 1000 ]\n",
    "  }\n",
    "\"\"\"\n",
    "save_tensorrt_model(onnx_model, trt_model, precision, triton_config)"
   ]
  },
  {
   "cell_type": "code",
   "execution_count": 9,
   "id": "c84da281",
   "metadata": {},
   "outputs": [
    {
     "name": "stdout",
     "output_type": "stream",
     "text": [
      "/bin/sh: 1: trtexec: not found\n",
      "cp: cannot stat './Flask/Models/mobilenet_v2-trt_fp16.plan': No such file or directory\n",
      "./Flask/Models/mobilenet_v2-trt_fp16.plan\n",
      "./Triton/Models/mobilenet_v2-trt_fp16/config.pbtxt\n",
      "./Triton/Models/mobilenet_v2-trt_fp16/1/model.plan\n"
     ]
    }
   ],
   "source": [
    "onnx_model = 'mobilenet_v2-onnx'\n",
    "trt_model = 'mobilenet_v2-trt'\n",
    "precision = 'fp16'\n",
    "triton_config = \"\"\"\n",
    "platform: \"tensorrt_plan\"\n",
    "max_batch_size: 1\n",
    "input [\n",
    " {\n",
    "    name: \"input__0\"\n",
    "    data_type: TYPE_FP32\n",
    "    format: FORMAT_NCHW\n",
    "    dims: [ 3, 224, 224 ]\n",
    "  }\n",
    "]\n",
    "output {\n",
    "    name: \"output__0\"\n",
    "    data_type: TYPE_FP32\n",
    "    dims: [ 1000 ]\n",
    "  }\n",
    "\"\"\"\n",
    "save_tensorrt_model(onnx_model, trt_model, precision, triton_config)"
   ]
  },
  {
   "cell_type": "code",
   "execution_count": 10,
   "id": "838b611a",
   "metadata": {},
   "outputs": [
    {
     "name": "stdout",
     "output_type": "stream",
     "text": [
      "/bin/sh: 1: trtexec: not found\n",
      "cp: cannot stat './Flask/Models/mobilenet_v2-trt_int8.plan': No such file or directory\n",
      "./Flask/Models/mobilenet_v2-trt_int8.plan\n",
      "./Triton/Models/mobilenet_v2-trt_int8/config.pbtxt\n",
      "./Triton/Models/mobilenet_v2-trt_int8/1/model.plan\n"
     ]
    }
   ],
   "source": [
    "onnx_model = 'mobilenet_v2-onnx'\n",
    "trt_model = 'mobilenet_v2-trt'\n",
    "precision = 'int8'\n",
    "triton_config = \"\"\"\n",
    "platform: \"tensorrt_plan\"\n",
    "max_batch_size: 1\n",
    "input [\n",
    " {\n",
    "    name: \"input__0\"\n",
    "    data_type: TYPE_FP32\n",
    "    format: FORMAT_NCHW\n",
    "    dims: [ 3, 224, 224 ]\n",
    "  }\n",
    "]\n",
    "output {\n",
    "    name: \"output__0\"\n",
    "    data_type: TYPE_FP32\n",
    "    dims: [ 1000 ]\n",
    "  }\n",
    "\"\"\"\n",
    "save_tensorrt_model(onnx_model, trt_model, precision, triton_config)"
   ]
  },
  {
   "cell_type": "code",
   "execution_count": 11,
   "id": "a8b2e97d",
   "metadata": {},
   "outputs": [
    {
     "name": "stdout",
     "output_type": "stream",
     "text": [
      "/bin/sh: 1: trtexec: not found\n",
      "cp: cannot stat './Flask/Models/efficientnet_b0-trt_best.plan': No such file or directory\n",
      "./Flask/Models/efficientnet_b0-trt_best.plan\n",
      "./Triton/Models/efficientnet_b0-trt_best/config.pbtxt\n",
      "./Triton/Models/efficientnet_b0-trt_best/1/model.plan\n"
     ]
    }
   ],
   "source": [
    "onnx_model = 'efficientnet_b0-onnx'\n",
    "trt_model = 'efficientnet_b0-trt'\n",
    "precision = 'best'\n",
    "triton_config = \"\"\"\n",
    "platform: \"tensorrt_plan\"\n",
    "max_batch_size: 1\n",
    "input [\n",
    " {\n",
    "    name: \"input__0\"\n",
    "    data_type: TYPE_FP32\n",
    "    format: FORMAT_NCHW\n",
    "    dims: [ 3, 224, 224 ]\n",
    "  }\n",
    "]\n",
    "output {\n",
    "    name: \"output__0\"\n",
    "    data_type: TYPE_FP32\n",
    "    dims: [ 1000 ]\n",
    "  }\n",
    "\"\"\"\n",
    "save_tensorrt_model(onnx_model, trt_model, precision, triton_config)"
   ]
  },
  {
   "cell_type": "code",
   "execution_count": 12,
   "id": "aef3fec5",
   "metadata": {},
   "outputs": [
    {
     "name": "stdout",
     "output_type": "stream",
     "text": [
      "/bin/sh: 1: trtexec: not found\n",
      "cp: cannot stat './Flask/Models/efficientnet_b0-trt_fp16.plan': No such file or directory\n",
      "./Flask/Models/efficientnet_b0-trt_fp16.plan\n",
      "./Triton/Models/efficientnet_b0-trt_fp16/config.pbtxt\n",
      "./Triton/Models/efficientnet_b0-trt_fp16/1/model.plan\n"
     ]
    }
   ],
   "source": [
    "onnx_model = 'efficientnet_b0-onnx'\n",
    "trt_model = 'efficientnet_b0-trt'\n",
    "precision = 'fp16'\n",
    "triton_config = \"\"\"\n",
    "platform: \"tensorrt_plan\"\n",
    "max_batch_size: 1\n",
    "input [\n",
    " {\n",
    "    name: \"input__0\"\n",
    "    data_type: TYPE_FP32\n",
    "    format: FORMAT_NCHW\n",
    "    dims: [ 3, 224, 224 ]\n",
    "  }\n",
    "]\n",
    "output {\n",
    "    name: \"output__0\"\n",
    "    data_type: TYPE_FP32\n",
    "    dims: [ 1000 ]\n",
    "  }\n",
    "\"\"\"\n",
    "save_tensorrt_model(onnx_model, trt_model, precision, triton_config)"
   ]
  },
  {
   "cell_type": "code",
   "execution_count": 13,
   "id": "eee83847",
   "metadata": {},
   "outputs": [
    {
     "name": "stdout",
     "output_type": "stream",
     "text": [
      "/bin/sh: 1: trtexec: not found\n",
      "cp: cannot stat './Flask/Models/efficientnet_b0-trt_int8.plan': No such file or directory\n",
      "./Flask/Models/efficientnet_b0-trt_int8.plan\n",
      "./Triton/Models/efficientnet_b0-trt_int8/config.pbtxt\n",
      "./Triton/Models/efficientnet_b0-trt_int8/1/model.plan\n"
     ]
    }
   ],
   "source": [
    "onnx_model = 'efficientnet_b0-onnx'\n",
    "trt_model = 'efficientnet_b0-trt'\n",
    "precision = 'int8'\n",
    "triton_config = \"\"\"\n",
    "platform: \"tensorrt_plan\"\n",
    "max_batch_size: 1\n",
    "input [\n",
    " {\n",
    "    name: \"input__0\"\n",
    "    data_type: TYPE_FP32\n",
    "    format: FORMAT_NCHW\n",
    "    dims: [ 3, 224, 224 ]\n",
    "  }\n",
    "]\n",
    "output {\n",
    "    name: \"output__0\"\n",
    "    data_type: TYPE_FP32\n",
    "    dims: [ 1000 ]\n",
    "  }\n",
    "\"\"\"\n",
    "save_tensorrt_model(onnx_model, trt_model, precision, triton_config)"
   ]
  },
  {
   "cell_type": "code",
   "execution_count": 14,
   "id": "34b49a1e",
   "metadata": {},
   "outputs": [
    {
     "name": "stdout",
     "output_type": "stream",
     "text": [
      "/bin/sh: 1: trtexec: not found\n",
      "cp: cannot stat './Flask/Models/efficientnet_b7-trt_best.plan': No such file or directory\n",
      "./Flask/Models/efficientnet_b7-trt_best.plan\n",
      "./Triton/Models/efficientnet_b7-trt_best/config.pbtxt\n",
      "./Triton/Models/efficientnet_b7-trt_best/1/model.plan\n"
     ]
    }
   ],
   "source": [
    "onnx_model = 'efficientnet_b7-onnx'\n",
    "trt_model = 'efficientnet_b7-trt'\n",
    "precision = 'best'\n",
    "triton_config = \"\"\"\n",
    "platform: \"tensorrt_plan\"\n",
    "max_batch_size: 1\n",
    "input [\n",
    " {\n",
    "    name: \"input__0\"\n",
    "    data_type: TYPE_FP32\n",
    "    format: FORMAT_NCHW\n",
    "    dims: [ 3, 600, 600 ]\n",
    "  }\n",
    "]\n",
    "output {\n",
    "    name: \"output__0\"\n",
    "    data_type: TYPE_FP32\n",
    "    dims: [ 1000 ]\n",
    "  }\n",
    "\"\"\"\n",
    "save_tensorrt_model(onnx_model, trt_model, precision, triton_config)"
   ]
  },
  {
   "cell_type": "code",
   "execution_count": 15,
   "id": "0e5af75f",
   "metadata": {},
   "outputs": [
    {
     "name": "stdout",
     "output_type": "stream",
     "text": [
      "/bin/sh: 1: trtexec: not found\n",
      "cp: cannot stat './Flask/Models/efficientnet_b7-trt_fp16.plan': No such file or directory\n",
      "./Flask/Models/efficientnet_b7-trt_fp16.plan\n",
      "./Triton/Models/efficientnet_b7-trt_fp16/config.pbtxt\n",
      "./Triton/Models/efficientnet_b7-trt_fp16/1/model.plan\n"
     ]
    }
   ],
   "source": [
    "onnx_model = 'efficientnet_b7-onnx'\n",
    "trt_model = 'efficientnet_b7-trt'\n",
    "precision = 'fp16'\n",
    "triton_config = \"\"\"\n",
    "platform: \"tensorrt_plan\"\n",
    "max_batch_size: 1\n",
    "input [\n",
    " {\n",
    "    name: \"input__0\"\n",
    "    data_type: TYPE_FP32\n",
    "    format: FORMAT_NCHW\n",
    "    dims: [ 3, 600, 600 ]\n",
    "  }\n",
    "]\n",
    "output {\n",
    "    name: \"output__0\"\n",
    "    data_type: TYPE_FP32\n",
    "    dims: [ 1000 ]\n",
    "  }\n",
    "\"\"\"\n",
    "save_tensorrt_model(onnx_model, trt_model, precision, triton_config)"
   ]
  },
  {
   "cell_type": "code",
   "execution_count": 16,
   "id": "b732a75e",
   "metadata": {},
   "outputs": [
    {
     "name": "stdout",
     "output_type": "stream",
     "text": [
      "/bin/sh: 1: trtexec: not found\n",
      "cp: cannot stat './Flask/Models/efficientnet_b7-trt_int8.plan': No such file or directory\n",
      "./Flask/Models/efficientnet_b7-trt_int8.plan\n",
      "./Triton/Models/efficientnet_b7-trt_int8/config.pbtxt\n",
      "./Triton/Models/efficientnet_b7-trt_int8/1/model.plan\n"
     ]
    }
   ],
   "source": [
    "onnx_model = 'efficientnet_b7-onnx'\n",
    "trt_model = 'efficientnet_b7-trt'\n",
    "precision = 'int8'\n",
    "triton_config = \"\"\"\n",
    "platform: \"tensorrt_plan\"\n",
    "max_batch_size: 1\n",
    "input [\n",
    " {\n",
    "    name: \"input__0\"\n",
    "    data_type: TYPE_FP32\n",
    "    format: FORMAT_NCHW\n",
    "    dims: [ 3, 600, 600 ]\n",
    "  }\n",
    "]\n",
    "output {\n",
    "    name: \"output__0\"\n",
    "    data_type: TYPE_FP32\n",
    "    dims: [ 1000 ]\n",
    "  }\n",
    "\"\"\"\n",
    "save_tensorrt_model(onnx_model, trt_model, precision, triton_config)"
   ]
  }
 ],
 "metadata": {
  "kernelspec": {
   "display_name": "Python 3",
   "language": "python",
   "name": "python3"
  },
  "language_info": {
   "codemirror_mode": {
    "name": "ipython",
    "version": 3
   },
   "file_extension": ".py",
   "mimetype": "text/x-python",
   "name": "python",
   "nbconvert_exporter": "python",
   "pygments_lexer": "ipython3",
<<<<<<< HEAD
   "version": "3.6.9"
=======
   "version": "3.7.11"
>>>>>>> 974b5e6d4b9e447940f334c1c862ebbc6bdfbff2
  }
 },
 "nbformat": 4,
 "nbformat_minor": 5
}
