{
 "cells": [
  {
   "cell_type": "code",
   "execution_count": 1,
   "id": "bb12d101",
   "metadata": {},
   "outputs": [],
   "source": [
    "import onnxruntime\n",
    "import torchvision\n",
    "import torch.utils.data as data\n",
    "import torchvision.transforms as transforms\n",
    "\n",
    "import numpy as np\n",
    "import time"
   ]
  },
  {
   "cell_type": "code",
   "execution_count": 2,
   "id": "282c5689",
   "metadata": {},
   "outputs": [],
   "source": [
    "IMAGENET_DIR = '/home/data/ImageNet'\n",
    "BATCH_SIZE = 128\n",
    "LOADER_WORKERS = 4"
   ]
  },
  {
   "cell_type": "code",
   "execution_count": 3,
   "id": "9d7dfde5",
   "metadata": {},
   "outputs": [],
   "source": [
    "ort_sess = onnxruntime.InferenceSession('../Flask/Models/resnet34-onnx.onnx',\n",
    "                                       providers=['CUDAExecutionProvider'])"
   ]
  },
  {
   "cell_type": "code",
   "execution_count": 4,
   "id": "95c56c7f",
   "metadata": {},
   "outputs": [
    {
     "data": {
      "text/plain": [
       "('input_0', 'output_0')"
      ]
     },
     "execution_count": 4,
     "metadata": {},
     "output_type": "execute_result"
    }
   ],
   "source": [
    "_input = ort_sess.get_inputs()[0].name\n",
    "_output = ort_sess.get_outputs()[0].name\n",
    "_input, _output"
   ]
  },
  {
   "cell_type": "code",
   "execution_count": 5,
   "id": "7d86611f",
   "metadata": {},
   "outputs": [],
   "source": [
    "transform = transforms.Compose([\n",
    "    transforms.Resize(256),\n",
    "    transforms.CenterCrop(224),\n",
    "    transforms.ToTensor(),\n",
    "    transforms.Normalize(mean=[0.485, 0.456, 0.406], std=[0.229, 0.224, 0.225])\n",
    "])"
   ]
  },
  {
   "cell_type": "code",
   "execution_count": 6,
   "id": "1d8482b0",
   "metadata": {},
   "outputs": [],
   "source": [
    "dataset = torchvision.datasets.ImageNet(root=IMAGENET_DIR, transform=transform, split='val')\n",
    "loader = data.DataLoader(dataset, batch_size=BATCH_SIZE, shuffle=False, num_workers=LOADER_WORKERS)"
   ]
  },
  {
   "cell_type": "code",
   "execution_count": 7,
   "id": "34cc1f53",
   "metadata": {},
   "outputs": [
    {
     "name": "stdout",
     "output_type": "stream",
     "text": [
      "step: 50000/50000\n",
      "top-1:  0.7330\n",
      "top-5:  0.9219\n",
      "Batch Size: 128\n",
      "Total Time: 47.8250 (0.0010)\n",
      "Average Prediction Time: 0.0493\n"
     ]
    }
   ],
   "source": [
    "n_top1 = 0\n",
    "n_top5 = 0\n",
    "cnt = 0\n",
    "\n",
    "s = time.time()\n",
    "pred_tms = []\n",
    "for images, labels in loader:\n",
    "\n",
    "    ss = time.time()\n",
    "    output = ort_sess.run([_output], {_input: images.numpy()})\n",
    "    output = output[0]\n",
    "    pred_tms.append(time.time()-ss)\n",
    "\n",
    "    cnt += output.shape[0]\n",
    "\n",
    "    top1_id = output.argmax(1)\n",
    "    top5_id = output.argsort(1)[:, ::-1][:, :5]\n",
    "\n",
    "    n_top1 += np.equal(top1_id, labels).sum()\n",
    "    n_top5 += np.max(np.isin(top5_id, labels), 1).sum()\n",
    "\n",
    "    print(f\"\\rstep: {cnt}/{len(dataset)}\", end='')\n",
    "    \n",
    "total_tm = time.time() - s\n",
    "print()\n",
    "print(f\"top-1:  {n_top1/cnt:0.4f}\")\n",
    "print(f\"top-5:  {n_top5/cnt:0.4f}\")\n",
    "print(f\"Batch Size: {BATCH_SIZE}\")\n",
    "print(f\"Total Time: {total_tm:0.4f} ({total_tm/len(dataset):0.4f})\")\n",
    "print(f\"Average Prediction Time: {np.mean(pred_tms):0.4f}\")"
   ]
  }
 ],
 "metadata": {
  "kernelspec": {
   "display_name": "tcl",
   "language": "python",
   "name": "tcl"
  },
  "language_info": {
   "codemirror_mode": {
    "name": "ipython",
    "version": 3
   },
   "file_extension": ".py",
   "mimetype": "text/x-python",
   "name": "python",
   "nbconvert_exporter": "python",
   "pygments_lexer": "ipython3",
   "version": "3.8.14"
  }
 },
 "nbformat": 4,
 "nbformat_minor": 5
}
