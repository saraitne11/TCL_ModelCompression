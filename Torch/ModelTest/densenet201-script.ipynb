{
 "cells": [
  {
   "cell_type": "code",
   "execution_count": 1,
   "id": "bb12d101",
   "metadata": {},
   "outputs": [],
   "source": [
    "import torch\n",
    "import torchvision\n",
    "import torch.utils.data as data\n",
    "import torchvision.transforms as transforms\n",
    "\n",
    "from torchinfo import summary\n",
    "\n",
    "import numpy as np\n",
    "import time"
   ]
  },
  {
   "cell_type": "code",
   "execution_count": 2,
   "id": "282c5689",
   "metadata": {},
   "outputs": [],
   "source": [
    "IMAGENET_DIR = '/home/data/ImageNet'\n",
    "# IMAGENET_DIR = 'D:/ImageNet'\n",
    "BATCH_SIZE = 128\n",
    "LOADER_WORKERS = 4"
   ]
  },
  {
   "cell_type": "code",
   "execution_count": 3,
   "id": "39e24d1c",
   "metadata": {},
   "outputs": [
    {
     "name": "stdout",
     "output_type": "stream",
     "text": [
      "cuda:0\n"
     ]
    }
   ],
   "source": [
    "device = torch.device('cuda:0' if torch.cuda.is_available() else 'cpu')\n",
    "print(device)"
   ]
  },
  {
   "cell_type": "code",
   "execution_count": 4,
   "id": "91deb93c",
   "metadata": {
    "scrolled": true
   },
   "outputs": [],
   "source": [
    "model = torchvision.models.densenet201(pretrained=True)\n",
    "model = torch.jit.script(model)\n",
    "model = model.to(device)\n",
    "model = model.eval()"
   ]
  },
  {
   "cell_type": "code",
   "execution_count": 5,
   "id": "98fa29a3",
   "metadata": {
    "scrolled": true
   },
   "outputs": [
    {
     "data": {
      "text/plain": [
       "==========================================================================================\n",
       "Layer (type:depth-idx)                   Output Shape              Param #\n",
       "==========================================================================================\n",
       "DenseNet                                 --                        --\n",
       "├─Sequential: 1-1                        --                        --\n",
       "│    └─Conv2d: 2-1                       --                        9,408\n",
       "│    └─BatchNorm2d: 2-2                  --                        128\n",
       "│    └─ReLU: 2-3                         --                        --\n",
       "│    └─MaxPool2d: 2-4                    --                        --\n",
       "│    └─_DenseBlock: 2-5                  --                        --\n",
       "│    │    └─_DenseLayer: 3-1             --                        45,440\n",
       "│    │    └─_DenseLayer: 3-2             --                        49,600\n",
       "│    │    └─_DenseLayer: 3-3             --                        53,760\n",
       "│    │    └─_DenseLayer: 3-4             --                        57,920\n",
       "│    │    └─_DenseLayer: 3-5             --                        62,080\n",
       "│    │    └─_DenseLayer: 3-6             --                        66,240\n",
       "│    └─_Transition: 2-6                  --                        --\n",
       "│    │    └─BatchNorm2d: 3-7             --                        512\n",
       "│    │    └─ReLU: 3-8                    --                        --\n",
       "│    │    └─Conv2d: 3-9                  --                        32,768\n",
       "│    │    └─AvgPool2d: 3-10              --                        --\n",
       "│    └─_DenseBlock: 2-7                  --                        --\n",
       "│    │    └─_DenseLayer: 3-11            --                        53,760\n",
       "│    │    └─_DenseLayer: 3-12            --                        57,920\n",
       "│    │    └─_DenseLayer: 3-13            --                        62,080\n",
       "│    │    └─_DenseLayer: 3-14            --                        66,240\n",
       "│    │    └─_DenseLayer: 3-15            --                        70,400\n",
       "│    │    └─_DenseLayer: 3-16            --                        74,560\n",
       "│    │    └─_DenseLayer: 3-17            --                        78,720\n",
       "│    │    └─_DenseLayer: 3-18            --                        82,880\n",
       "│    │    └─_DenseLayer: 3-19            --                        87,040\n",
       "│    │    └─_DenseLayer: 3-20            --                        91,200\n",
       "│    │    └─_DenseLayer: 3-21            --                        95,360\n",
       "│    │    └─_DenseLayer: 3-22            --                        99,520\n",
       "│    └─_Transition: 2-8                  --                        --\n",
       "│    │    └─BatchNorm2d: 3-23            --                        1,024\n",
       "│    │    └─ReLU: 3-24                   --                        --\n",
       "│    │    └─Conv2d: 3-25                 --                        131,072\n",
       "│    │    └─AvgPool2d: 3-26              --                        --\n",
       "│    └─_DenseBlock: 2-9                  --                        --\n",
       "│    │    └─_DenseLayer: 3-27            --                        70,400\n",
       "│    │    └─_DenseLayer: 3-28            --                        74,560\n",
       "│    │    └─_DenseLayer: 3-29            --                        78,720\n",
       "│    │    └─_DenseLayer: 3-30            --                        82,880\n",
       "│    │    └─_DenseLayer: 3-31            --                        87,040\n",
       "│    │    └─_DenseLayer: 3-32            --                        91,200\n",
       "│    │    └─_DenseLayer: 3-33            --                        95,360\n",
       "│    │    └─_DenseLayer: 3-34            --                        99,520\n",
       "│    │    └─_DenseLayer: 3-35            --                        103,680\n",
       "│    │    └─_DenseLayer: 3-36            --                        107,840\n",
       "│    │    └─_DenseLayer: 3-37            --                        112,000\n",
       "│    │    └─_DenseLayer: 3-38            --                        116,160\n",
       "│    │    └─_DenseLayer: 3-39            --                        120,320\n",
       "│    │    └─_DenseLayer: 3-40            --                        124,480\n",
       "│    │    └─_DenseLayer: 3-41            --                        128,640\n",
       "│    │    └─_DenseLayer: 3-42            --                        132,800\n",
       "│    │    └─_DenseLayer: 3-43            --                        136,960\n",
       "│    │    └─_DenseLayer: 3-44            --                        141,120\n",
       "│    │    └─_DenseLayer: 3-45            --                        145,280\n",
       "│    │    └─_DenseLayer: 3-46            --                        149,440\n",
       "│    │    └─_DenseLayer: 3-47            --                        153,600\n",
       "│    │    └─_DenseLayer: 3-48            --                        157,760\n",
       "│    │    └─_DenseLayer: 3-49            --                        161,920\n",
       "│    │    └─_DenseLayer: 3-50            --                        166,080\n",
       "│    │    └─_DenseLayer: 3-51            --                        170,240\n",
       "│    │    └─_DenseLayer: 3-52            --                        174,400\n",
       "│    │    └─_DenseLayer: 3-53            --                        178,560\n",
       "│    │    └─_DenseLayer: 3-54            --                        182,720\n",
       "│    │    └─_DenseLayer: 3-55            --                        186,880\n",
       "│    │    └─_DenseLayer: 3-56            --                        191,040\n",
       "│    │    └─_DenseLayer: 3-57            --                        195,200\n",
       "│    │    └─_DenseLayer: 3-58            --                        199,360\n",
       "│    │    └─_DenseLayer: 3-59            --                        203,520\n",
       "│    │    └─_DenseLayer: 3-60            --                        207,680\n",
       "│    │    └─_DenseLayer: 3-61            --                        211,840\n",
       "│    │    └─_DenseLayer: 3-62            --                        216,000\n",
       "│    │    └─_DenseLayer: 3-63            --                        220,160\n",
       "│    │    └─_DenseLayer: 3-64            --                        224,320\n",
       "│    │    └─_DenseLayer: 3-65            --                        228,480\n",
       "│    │    └─_DenseLayer: 3-66            --                        232,640\n",
       "│    │    └─_DenseLayer: 3-67            --                        236,800\n",
       "│    │    └─_DenseLayer: 3-68            --                        240,960\n",
       "│    │    └─_DenseLayer: 3-69            --                        245,120\n",
       "│    │    └─_DenseLayer: 3-70            --                        249,280\n",
       "│    │    └─_DenseLayer: 3-71            --                        253,440\n",
       "│    │    └─_DenseLayer: 3-72            --                        257,600\n",
       "│    │    └─_DenseLayer: 3-73            --                        261,760\n",
       "│    │    └─_DenseLayer: 3-74            --                        265,920\n",
       "│    └─_Transition: 2-10                 --                        --\n",
       "│    │    └─BatchNorm2d: 3-75            --                        3,584\n",
       "│    │    └─ReLU: 3-76                   --                        --\n",
       "│    │    └─Conv2d: 3-77                 --                        1,605,632\n",
       "│    │    └─AvgPool2d: 3-78              --                        --\n",
       "│    └─_DenseBlock: 2-11                 --                        --\n",
       "│    │    └─_DenseLayer: 3-79            --                        153,600\n",
       "│    │    └─_DenseLayer: 3-80            --                        157,760\n",
       "│    │    └─_DenseLayer: 3-81            --                        161,920\n",
       "│    │    └─_DenseLayer: 3-82            --                        166,080\n",
       "│    │    └─_DenseLayer: 3-83            --                        170,240\n",
       "│    │    └─_DenseLayer: 3-84            --                        174,400\n",
       "│    │    └─_DenseLayer: 3-85            --                        178,560\n",
       "│    │    └─_DenseLayer: 3-86            --                        182,720\n",
       "│    │    └─_DenseLayer: 3-87            --                        186,880\n",
       "│    │    └─_DenseLayer: 3-88            --                        191,040\n",
       "│    │    └─_DenseLayer: 3-89            --                        195,200\n",
       "│    │    └─_DenseLayer: 3-90            --                        199,360\n",
       "│    │    └─_DenseLayer: 3-91            --                        203,520\n",
       "│    │    └─_DenseLayer: 3-92            --                        207,680\n",
       "│    │    └─_DenseLayer: 3-93            --                        211,840\n",
       "│    │    └─_DenseLayer: 3-94            --                        216,000\n",
       "│    │    └─_DenseLayer: 3-95            --                        220,160\n",
       "│    │    └─_DenseLayer: 3-96            --                        224,320\n",
       "│    │    └─_DenseLayer: 3-97            --                        228,480\n",
       "│    │    └─_DenseLayer: 3-98            --                        232,640\n",
       "│    │    └─_DenseLayer: 3-99            --                        236,800\n",
       "│    │    └─_DenseLayer: 3-100           --                        240,960\n",
       "│    │    └─_DenseLayer: 3-101           --                        245,120\n",
       "│    │    └─_DenseLayer: 3-102           --                        249,280\n",
       "│    │    └─_DenseLayer: 3-103           --                        253,440\n",
       "│    │    └─_DenseLayer: 3-104           --                        257,600\n",
       "│    │    └─_DenseLayer: 3-105           --                        261,760\n",
       "│    │    └─_DenseLayer: 3-106           --                        265,920\n",
       "│    │    └─_DenseLayer: 3-107           --                        270,080\n",
       "│    │    └─_DenseLayer: 3-108           --                        274,240\n",
       "│    │    └─_DenseLayer: 3-109           --                        278,400\n",
       "│    │    └─_DenseLayer: 3-110           --                        282,560\n",
       "│    └─BatchNorm2d: 2-12                 --                        3,840\n",
       "├─Linear: 1-2                            --                        1,921,000\n",
       "==========================================================================================\n",
       "Total params: 20,013,928\n",
       "Trainable params: 20,013,928\n",
       "Non-trainable params: 0\n",
       "Total mult-adds (M): 0.00\n",
       "==========================================================================================\n",
       "Input size (MB): 77.07\n",
       "Forward/backward pass size (MB): 0.00\n",
       "Params size (MB): 80.06\n",
       "Estimated Total Size (MB): 157.13\n",
       "=========================================================================================="
      ]
     },
     "execution_count": 5,
     "metadata": {},
     "output_type": "execute_result"
    }
   ],
   "source": [
    "summary(model, (BATCH_SIZE, 3, 224, 224))"
   ]
  },
  {
   "cell_type": "code",
   "execution_count": 6,
   "id": "7d86611f",
   "metadata": {},
   "outputs": [],
   "source": [
    "transform = transforms.Compose([\n",
    "    transforms.Resize(256),\n",
    "    transforms.CenterCrop(224),\n",
    "    transforms.ToTensor(),\n",
    "    transforms.Normalize(mean=[0.485, 0.456, 0.406], std=[0.229, 0.224, 0.225])\n",
    "])"
   ]
  },
  {
   "cell_type": "code",
   "execution_count": 7,
   "id": "1d8482b0",
   "metadata": {},
   "outputs": [],
   "source": [
    "dataset = torchvision.datasets.ImageNet(root=IMAGENET_DIR, transform=transform, split='val')\n",
    "loader = data.DataLoader(dataset, batch_size=BATCH_SIZE, shuffle=False, num_workers=LOADER_WORKERS)"
   ]
  },
  {
   "cell_type": "code",
   "execution_count": 8,
   "id": "34cc1f53",
   "metadata": {},
   "outputs": [
    {
     "name": "stdout",
     "output_type": "stream",
     "text": [
      "step: 50000/50000\n",
      "top-1:  0.7689\n",
      "top-5:  0.9398\n",
      "Batch Size: 128\n",
      "Total Time: 71.9640 (0.0014)\n",
      "Average Prediction Time: 0.0646\n"
     ]
    }
   ],
   "source": [
    "n_top1 = 0\n",
    "n_top5 = 0\n",
    "cnt = 0\n",
    "\n",
    "s = time.time()\n",
    "pred_tms = []\n",
    "with torch.no_grad():\n",
    "    for images, labels in loader:\n",
    "\n",
    "        x = images.to(device)\n",
    "        y = labels.to(device)\n",
    "        \n",
    "        ss = time.time()\n",
    "        output = model(x)\n",
    "        pred_tms.append(time.time()-ss)\n",
    "        \n",
    "        cnt += output.size(0)\n",
    "        \n",
    "        _, pred_top1 = output.max(1)\n",
    "        _, pred_top5 = output.topk(5, 1, True, True)\n",
    "        \n",
    "        n_top1 += torch.eq(pred_top1, y).sum().item()\n",
    "        n_top5 += torch.isin(pred_top5, y).max(1)[0].sum().item()\n",
    "\n",
    "        print(f\"\\rstep: {cnt}/{len(dataset)}\", end='')\n",
    "total_tm = time.time() - s\n",
    "print()\n",
    "print(f\"top-1:  {n_top1/cnt:0.4f}\")\n",
    "print(f\"top-5:  {n_top5/cnt:0.4f}\")\n",
    "print(f\"Batch Size: {BATCH_SIZE}\")\n",
    "print(f\"Total Time: {total_tm:0.4f} ({total_tm/len(dataset):0.4f})\")\n",
    "print(f\"Average Prediction Time: {np.mean(pred_tms):0.4f}\")"
   ]
  }
 ],
 "metadata": {
  "kernelspec": {
   "display_name": "tcl",
   "language": "python",
   "name": "tcl"
  },
  "language_info": {
   "codemirror_mode": {
    "name": "ipython",
    "version": 3
   },
   "file_extension": ".py",
   "mimetype": "text/x-python",
   "name": "python",
   "nbconvert_exporter": "python",
   "pygments_lexer": "ipython3",
   "version": "3.8.13"
  }
 },
 "nbformat": 4,
 "nbformat_minor": 5
}
