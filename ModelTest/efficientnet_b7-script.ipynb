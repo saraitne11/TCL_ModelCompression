{
 "cells": [
  {
   "cell_type": "code",
   "execution_count": 1,
   "id": "bb12d101",
   "metadata": {},
   "outputs": [],
   "source": [
    "import torch\n",
    "import torchvision\n",
    "import torch.utils.data as data\n",
    "import torchvision.transforms as transforms\n",
    "\n",
    "from torchinfo import summary\n",
    "\n",
    "import numpy as np\n",
    "import time"
   ]
  },
  {
   "cell_type": "code",
   "execution_count": 2,
   "id": "24b79ac3",
   "metadata": {},
   "outputs": [],
   "source": [
    "IMAGENET_DIR = '/ImageNet'\n",
    "MODEL_FILE = '../Flask/Models/efficientnet_b7-script.pt'\n",
    "BATCH_SIZE = 64\n",
    "LOADER_WORKERS = 4"
   ]
  },
  {
   "cell_type": "code",
   "execution_count": 3,
   "id": "282c5689",
   "metadata": {},
   "outputs": [
    {
     "name": "stdout",
     "output_type": "stream",
     "text": [
      "cuda:0\n"
     ]
    }
   ],
   "source": [
    "device = torch.device('cuda:0' if torch.cuda.is_available() else 'cpu')\n",
    "print(device)"
   ]
  },
  {
   "cell_type": "code",
   "execution_count": 4,
   "id": "91deb93c",
   "metadata": {
    "scrolled": true
   },
   "outputs": [],
   "source": [
    "model = torch.jit.load(MODEL_FILE)\n",
    "model = model.to(device)\n",
    "model = model.eval()"
   ]
  },
  {
   "cell_type": "code",
   "execution_count": 5,
   "id": "ddda8df7",
   "metadata": {
    "scrolled": true
   },
   "outputs": [
    {
     "data": {
      "text/plain": [
       "=========================================================================================================\n",
       "Layer (type:depth-idx)                                  Output Shape              Param #\n",
       "=========================================================================================================\n",
       "EfficientNet                                            --                        --\n",
       "├─Sequential: 1-1                                       --                        --\n",
       "│    └─ConvNormActivation: 2-1                          --                        --\n",
       "│    │    └─Conv2d: 3-1                                 --                        1,728\n",
       "│    │    └─BatchNorm2d: 3-2                            --                        128\n",
       "│    │    └─SiLU: 3-3                                   --                        --\n",
       "│    └─Sequential: 2-2                                  --                        --\n",
       "│    │    └─MBConv: 3-4                                 --                        4,944\n",
       "│    │    └─MBConv: 3-5                                 --                        1,992\n",
       "│    │    └─MBConv: 3-6                                 --                        1,992\n",
       "│    │    └─MBConv: 3-7                                 --                        1,992\n",
       "│    └─Sequential: 2-3                                  --                        --\n",
       "│    │    └─MBConv: 3-8                                 --                        21,224\n",
       "│    │    └─MBConv: 3-9                                 --                        38,700\n",
       "│    │    └─MBConv: 3-10                                --                        38,700\n",
       "│    │    └─MBConv: 3-11                                --                        38,700\n",
       "│    │    └─MBConv: 3-12                                --                        38,700\n",
       "│    │    └─MBConv: 3-13                                --                        38,700\n",
       "│    │    └─MBConv: 3-14                                --                        38,700\n",
       "│    └─Sequential: 2-4                                  --                        --\n",
       "│    │    └─MBConv: 3-15                                --                        52,588\n",
       "│    │    └─MBConv: 3-16                                --                        110,580\n",
       "│    │    └─MBConv: 3-17                                --                        110,580\n",
       "│    │    └─MBConv: 3-18                                --                        110,580\n",
       "│    │    └─MBConv: 3-19                                --                        110,580\n",
       "│    │    └─MBConv: 3-20                                --                        110,580\n",
       "│    │    └─MBConv: 3-21                                --                        110,580\n",
       "│    └─Sequential: 2-5                                  --                        --\n",
       "│    │    └─MBConv: 3-22                                --                        141,460\n",
       "│    │    └─MBConv: 3-23                                --                        397,800\n",
       "│    │    └─MBConv: 3-24                                --                        397,800\n",
       "│    │    └─MBConv: 3-25                                --                        397,800\n",
       "│    │    └─MBConv: 3-26                                --                        397,800\n",
       "│    │    └─MBConv: 3-27                                --                        397,800\n",
       "│    │    └─MBConv: 3-28                                --                        397,800\n",
       "│    │    └─MBConv: 3-29                                --                        397,800\n",
       "│    │    └─MBConv: 3-30                                --                        397,800\n",
       "│    │    └─MBConv: 3-31                                --                        397,800\n",
       "│    └─Sequential: 2-6                                  --                        --\n",
       "│    │    └─MBConv: 3-32                                --                        474,728\n",
       "│    │    └─MBConv: 3-33                                --                        793,464\n",
       "│    │    └─MBConv: 3-34                                --                        793,464\n",
       "│    │    └─MBConv: 3-35                                --                        793,464\n",
       "│    │    └─MBConv: 3-36                                --                        793,464\n",
       "│    │    └─MBConv: 3-37                                --                        793,464\n",
       "│    │    └─MBConv: 3-38                                --                        793,464\n",
       "│    │    └─MBConv: 3-39                                --                        793,464\n",
       "│    │    └─MBConv: 3-40                                --                        793,464\n",
       "│    │    └─MBConv: 3-41                                --                        793,464\n",
       "│    └─Sequential: 2-7                                  --                        --\n",
       "│    │    └─MBConv: 3-42                                --                        1,008,824\n",
       "│    │    └─MBConv: 3-43                                --                        2,281,824\n",
       "│    │    └─MBConv: 3-44                                --                        2,281,824\n",
       "│    │    └─MBConv: 3-45                                --                        2,281,824\n",
       "│    │    └─MBConv: 3-46                                --                        2,281,824\n",
       "│    │    └─MBConv: 3-47                                --                        2,281,824\n",
       "│    │    └─MBConv: 3-48                                --                        2,281,824\n",
       "│    │    └─MBConv: 3-49                                --                        2,281,824\n",
       "│    │    └─MBConv: 3-50                                --                        2,281,824\n",
       "│    │    └─MBConv: 3-51                                --                        2,281,824\n",
       "│    │    └─MBConv: 3-52                                --                        2,281,824\n",
       "│    │    └─MBConv: 3-53                                --                        2,281,824\n",
       "│    │    └─MBConv: 3-54                                --                        2,281,824\n",
       "│    └─Sequential: 2-8                                  --                        --\n",
       "│    │    └─MBConv: 3-55                                --                        2,835,296\n",
       "│    │    └─MBConv: 3-56                                --                        6,199,200\n",
       "│    │    └─MBConv: 3-57                                --                        6,199,200\n",
       "│    │    └─MBConv: 3-58                                --                        6,199,200\n",
       "│    └─ConvNormActivation: 2-9                          --                        --\n",
       "│    │    └─Conv2d: 3-59                                --                        1,638,400\n",
       "│    │    └─BatchNorm2d: 3-60                           --                        5,120\n",
       "│    │    └─SiLU: 3-61                                  --                        --\n",
       "├─AdaptiveAvgPool2d: 1-2                                --                        --\n",
       "├─Sequential: 1-3                                       --                        --\n",
       "│    └─Dropout: 2-10                                    --                        --\n",
       "│    └─Linear: 2-11                                     --                        2,561,000\n",
       "=========================================================================================================\n",
       "Total params: 66,347,960\n",
       "Trainable params: 66,347,960\n",
       "Non-trainable params: 0\n",
       "Total mult-adds (M): 0.00\n",
       "=========================================================================================================\n",
       "Input size (MB): 276.48\n",
       "Forward/backward pass size (MB): 0.00\n",
       "Params size (MB): 265.39\n",
       "Estimated Total Size (MB): 541.87\n",
       "========================================================================================================="
      ]
     },
     "execution_count": 5,
     "metadata": {},
     "output_type": "execute_result"
    }
   ],
   "source": [
    "summary(model, (BATCH_SIZE, 3, 600, 600))"
   ]
  },
  {
   "cell_type": "code",
   "execution_count": 6,
   "id": "888cd7bd",
   "metadata": {},
   "outputs": [],
   "source": [
    "transform = transforms.Compose([\n",
    "    transforms.Resize(633),\n",
    "    transforms.CenterCrop(600),\n",
    "    transforms.ToTensor(),\n",
    "    transforms.Normalize(mean=[0.485, 0.456, 0.406], std=[0.229, 0.224, 0.225])\n",
    "])"
   ]
  },
  {
   "cell_type": "code",
   "execution_count": 7,
   "id": "7c5268c6",
   "metadata": {},
   "outputs": [],
   "source": [
    "dataset = torchvision.datasets.ImageNet(root=IMAGENET_DIR, transform=transform, split='val')\n",
    "loader = data.DataLoader(dataset, batch_size=BATCH_SIZE, shuffle=False, num_workers=LOADER_WORKERS)"
   ]
  },
  {
   "cell_type": "code",
   "execution_count": 8,
   "id": "2c05f56d",
   "metadata": {},
   "outputs": [
    {
     "name": "stdout",
     "output_type": "stream",
     "text": [
      "step: 50000/50000\n",
      "top-1:  0.8394\n",
      "top-5:  0.9699\n",
      "Batch Size: 64\n",
      "Total Time: 827.9562 (0.0166)\n",
      "Average Prediction Time: 0.3296\n"
     ]
    }
   ],
   "source": [
    "n_top1 = 0\n",
    "n_top5 = 0\n",
    "cnt = 0\n",
    "\n",
    "s = time.time()\n",
    "pred_tms = []\n",
    "with torch.no_grad():\n",
    "    for images, labels in loader:\n",
    "\n",
    "        x = images.to(device)\n",
    "        y = labels.to(device)\n",
    "        \n",
    "        ss = time.time()\n",
    "        output = model(x)\n",
    "        pred_tms.append(time.time()-ss)\n",
    "        \n",
    "        cnt += output.size(0)\n",
    "        \n",
    "        _, pred_top1 = output.max(1)\n",
    "        _, pred_top5 = output.topk(5, 1, True, True)\n",
    "        \n",
    "        n_top1 += torch.eq(pred_top1, y).sum().item()\n",
    "        n_top5 += torch.isin(pred_top5, y).max(1)[0].sum().item()\n",
    "\n",
    "        print(f\"\\rstep: {cnt}/{len(dataset)}\", end='')\n",
    "        \n",
    "total_tm = time.time() - s\n",
    "print()\n",
    "print(f\"top-1:  {n_top1/cnt:0.4f}\")\n",
    "print(f\"top-5:  {n_top5/cnt:0.4f}\")\n",
    "print(f\"Batch Size: {BATCH_SIZE}\")\n",
    "print(f\"Total Time: {total_tm:0.4f} ({total_tm/len(dataset):0.4f})\")\n",
    "print(f\"Average Prediction Time: {np.mean(pred_tms):0.4f}\")"
   ]
  }
 ],
 "metadata": {
  "kernelspec": {
   "display_name": "Python 3 (ipykernel)",
   "language": "python",
   "name": "python3"
  },
  "language_info": {
   "codemirror_mode": {
    "name": "ipython",
    "version": 3
   },
   "file_extension": ".py",
   "mimetype": "text/x-python",
   "name": "python",
   "nbconvert_exporter": "python",
   "pygments_lexer": "ipython3",
   "version": "3.8.13"
  }
 },
 "nbformat": 4,
 "nbformat_minor": 5
}
