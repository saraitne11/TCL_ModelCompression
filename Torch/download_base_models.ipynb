{
 "cells": [
  {
   "cell_type": "code",
   "execution_count": 1,
   "id": "5f04687f",
   "metadata": {},
   "outputs": [],
   "source": [
    "import torch\n",
    "import torchvision\n",
    "\n",
    "import os"
   ]
  },
  {
   "cell_type": "code",
   "execution_count": 2,
   "id": "f0405ddd",
   "metadata": {},
   "outputs": [],
   "source": [
    "MODEL_DIR = './Models'\n",
    "os.makedirs(MODEL_DIR, exist_ok=True)"
   ]
  },
  {
   "cell_type": "code",
   "execution_count": 3,
   "id": "2961bb03",
   "metadata": {},
   "outputs": [
    {
     "name": "stdout",
     "output_type": "stream",
     "text": [
      "cuda:0\n"
     ]
    }
   ],
   "source": [
    "device = torch.device('cuda:0' if torch.cuda.is_available() else 'cpu')\n",
    "print(device)"
   ]
  },
  {
   "cell_type": "code",
   "execution_count": 4,
   "id": "6c2c38ed",
   "metadata": {},
   "outputs": [
    {
     "name": "stdout",
     "output_type": "stream",
     "text": [
      "./Models\\ResNet152_Base.pth\n"
     ]
    }
   ],
   "source": [
    "MODEL_NAME = 'ResNet152_Base.pth'\n",
    "\n",
    "w = torchvision.models.resnet.ResNet152_Weights.IMAGENET1K_V1\n",
    "model = torchvision.models.resnet152(weights=w)\n",
    "model = model.to(device)\n",
    "model = model.eval()\n",
    "\n",
    "path = os.path.join(MODEL_DIR, MODEL_NAME)\n",
    "torch.save(model, path)\n",
    "print(path)"
   ]
  },
  {
   "cell_type": "code",
   "execution_count": 5,
   "id": "d03bdf5e",
   "metadata": {},
   "outputs": [
    {
     "name": "stdout",
     "output_type": "stream",
     "text": [
      "./Models\\DenseNet201_Base.pth\n"
     ]
    }
   ],
   "source": [
    "MODEL_NAME = 'DenseNet201_Base.pth'\n",
    "\n",
    "w = torchvision.models.densenet.DenseNet201_Weights.IMAGENET1K_V1\n",
    "model = torchvision.models.densenet201(weights=w)\n",
    "model = model.to(device)\n",
    "model = model.eval()\n",
    "\n",
    "path = os.path.join(MODEL_DIR, MODEL_NAME)\n",
    "torch.save(model, path)\n",
    "print(path)"
   ]
  },
  {
   "cell_type": "code",
   "execution_count": 6,
   "id": "01237c71",
   "metadata": {},
   "outputs": [
    {
     "name": "stdout",
     "output_type": "stream",
     "text": [
      "./Models\\EfficientNet_V2_L_Base.pth\n"
     ]
    }
   ],
   "source": [
    "MODEL_NAME = 'EfficientNet_V2_L_Base.pth'\n",
    "\n",
    "w = torchvision.models.efficientnet.EfficientNet_V2_L_Weights.IMAGENET1K_V1\n",
    "model = torchvision.models.efficientnet_v2_l(weights=w)\n",
    "model = model.to(device)\n",
    "model = model.eval()\n",
    "\n",
    "path = os.path.join(MODEL_DIR, MODEL_NAME)\n",
    "torch.save(model, path)\n",
    "print(path)"
   ]
  },
  {
   "cell_type": "code",
   "execution_count": 7,
   "id": "d40a6328",
   "metadata": {},
   "outputs": [
    {
     "name": "stdout",
     "output_type": "stream",
     "text": [
      "./Models\\MobileNet_V2_Base.pth\n"
     ]
    }
   ],
   "source": [
    "MODEL_NAME = 'MobileNet_V2_Base.pth'\n",
    "\n",
    "w = torchvision.models.mobilenetv2.MobileNet_V2_Weights.IMAGENET1K_V1\n",
    "model = torchvision.models.mobilenet_v2(weights=w)\n",
    "model = model.to(device)\n",
    "model = model.eval()\n",
    "\n",
    "path = os.path.join(MODEL_DIR, MODEL_NAME)\n",
    "torch.save(model, path)\n",
    "print(path)"
   ]
  }
 ],
 "metadata": {
  "kernelspec": {
   "display_name": "mldl",
   "language": "python",
   "name": "mldl"
  },
  "language_info": {
   "codemirror_mode": {
    "name": "ipython",
    "version": 3
   },
   "file_extension": ".py",
   "mimetype": "text/x-python",
   "name": "python",
   "nbconvert_exporter": "python",
   "pygments_lexer": "ipython3",
   "version": "3.8.10"
  }
 },
 "nbformat": 4,
 "nbformat_minor": 5
}
