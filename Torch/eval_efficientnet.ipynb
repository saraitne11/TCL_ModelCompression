{
 "cells": [
  {
   "cell_type": "code",
   "execution_count": 1,
   "id": "bb12d101",
   "metadata": {},
   "outputs": [],
   "source": [
    "import torch\n",
    "import torchvision\n",
    "import torch.utils.data as data\n",
    "import torchvision.transforms as transforms\n",
    "\n",
    "from torchinfo import summary\n",
    "\n",
    "import numpy as np\n",
    "import time"
   ]
  },
  {
   "cell_type": "code",
   "execution_count": 2,
   "id": "24b79ac3",
   "metadata": {},
   "outputs": [],
   "source": [
    "# IMAGENET_DIR = '/home/data/ImageNet'\n",
    "IMAGENET_DIR = 'D:/ImageNet'\n",
    "BATCH_SIZE = 32\n",
    "LOADER_WORKERS = 4"
   ]
  },
  {
   "cell_type": "code",
   "execution_count": 3,
   "id": "282c5689",
   "metadata": {},
   "outputs": [
    {
     "name": "stdout",
     "output_type": "stream",
     "text": [
      "cuda:0\n"
     ]
    }
   ],
   "source": [
    "device = torch.device('cuda:0' if torch.cuda.is_available() else 'cpu')\n",
    "print(device)"
   ]
  },
  {
   "cell_type": "code",
   "execution_count": 4,
   "id": "91deb93c",
   "metadata": {
    "scrolled": true
   },
   "outputs": [],
   "source": [
    "model = torchvision.models.efficientnet_b7(pretrained=True)\n",
    "model = model.to(device)\n",
    "model = model.eval()"
   ]
  },
  {
   "cell_type": "code",
   "execution_count": 5,
   "id": "ddda8df7",
   "metadata": {
    "scrolled": true
   },
   "outputs": [
    {
     "data": {
      "text/plain": [
       "=========================================================================================================\n",
       "Layer (type:depth-idx)                                  Output Shape              Param #\n",
       "=========================================================================================================\n",
       "EfficientNet                                            [32, 1000]                --\n",
       "├─Sequential: 1-1                                       [32, 2560, 7, 7]          --\n",
       "│    └─ConvNormActivation: 2-1                          [32, 64, 112, 112]        --\n",
       "│    │    └─Conv2d: 3-1                                 [32, 64, 112, 112]        1,728\n",
       "│    │    └─BatchNorm2d: 3-2                            [32, 64, 112, 112]        128\n",
       "│    │    └─SiLU: 3-3                                   [32, 64, 112, 112]        --\n",
       "│    └─Sequential: 2-2                                  [32, 32, 112, 112]        --\n",
       "│    │    └─MBConv: 3-4                                 [32, 32, 112, 112]        4,944\n",
       "│    │    └─MBConv: 3-5                                 [32, 32, 112, 112]        1,992\n",
       "│    │    └─MBConv: 3-6                                 [32, 32, 112, 112]        1,992\n",
       "│    │    └─MBConv: 3-7                                 [32, 32, 112, 112]        1,992\n",
       "│    └─Sequential: 2-3                                  [32, 48, 56, 56]          --\n",
       "│    │    └─MBConv: 3-8                                 [32, 48, 56, 56]          21,224\n",
       "│    │    └─MBConv: 3-9                                 [32, 48, 56, 56]          38,700\n",
       "│    │    └─MBConv: 3-10                                [32, 48, 56, 56]          38,700\n",
       "│    │    └─MBConv: 3-11                                [32, 48, 56, 56]          38,700\n",
       "│    │    └─MBConv: 3-12                                [32, 48, 56, 56]          38,700\n",
       "│    │    └─MBConv: 3-13                                [32, 48, 56, 56]          38,700\n",
       "│    │    └─MBConv: 3-14                                [32, 48, 56, 56]          38,700\n",
       "│    └─Sequential: 2-4                                  [32, 80, 28, 28]          --\n",
       "│    │    └─MBConv: 3-15                                [32, 80, 28, 28]          52,588\n",
       "│    │    └─MBConv: 3-16                                [32, 80, 28, 28]          110,580\n",
       "│    │    └─MBConv: 3-17                                [32, 80, 28, 28]          110,580\n",
       "│    │    └─MBConv: 3-18                                [32, 80, 28, 28]          110,580\n",
       "│    │    └─MBConv: 3-19                                [32, 80, 28, 28]          110,580\n",
       "│    │    └─MBConv: 3-20                                [32, 80, 28, 28]          110,580\n",
       "│    │    └─MBConv: 3-21                                [32, 80, 28, 28]          110,580\n",
       "│    └─Sequential: 2-5                                  [32, 160, 14, 14]         --\n",
       "│    │    └─MBConv: 3-22                                [32, 160, 14, 14]         141,460\n",
       "│    │    └─MBConv: 3-23                                [32, 160, 14, 14]         397,800\n",
       "│    │    └─MBConv: 3-24                                [32, 160, 14, 14]         397,800\n",
       "│    │    └─MBConv: 3-25                                [32, 160, 14, 14]         397,800\n",
       "│    │    └─MBConv: 3-26                                [32, 160, 14, 14]         397,800\n",
       "│    │    └─MBConv: 3-27                                [32, 160, 14, 14]         397,800\n",
       "│    │    └─MBConv: 3-28                                [32, 160, 14, 14]         397,800\n",
       "│    │    └─MBConv: 3-29                                [32, 160, 14, 14]         397,800\n",
       "│    │    └─MBConv: 3-30                                [32, 160, 14, 14]         397,800\n",
       "│    │    └─MBConv: 3-31                                [32, 160, 14, 14]         397,800\n",
       "│    └─Sequential: 2-6                                  [32, 224, 14, 14]         --\n",
       "│    │    └─MBConv: 3-32                                [32, 224, 14, 14]         474,728\n",
       "│    │    └─MBConv: 3-33                                [32, 224, 14, 14]         793,464\n",
       "│    │    └─MBConv: 3-34                                [32, 224, 14, 14]         793,464\n",
       "│    │    └─MBConv: 3-35                                [32, 224, 14, 14]         793,464\n",
       "│    │    └─MBConv: 3-36                                [32, 224, 14, 14]         793,464\n",
       "│    │    └─MBConv: 3-37                                [32, 224, 14, 14]         793,464\n",
       "│    │    └─MBConv: 3-38                                [32, 224, 14, 14]         793,464\n",
       "│    │    └─MBConv: 3-39                                [32, 224, 14, 14]         793,464\n",
       "│    │    └─MBConv: 3-40                                [32, 224, 14, 14]         793,464\n",
       "│    │    └─MBConv: 3-41                                [32, 224, 14, 14]         793,464\n",
       "│    └─Sequential: 2-7                                  [32, 384, 7, 7]           --\n",
       "│    │    └─MBConv: 3-42                                [32, 384, 7, 7]           1,008,824\n",
       "│    │    └─MBConv: 3-43                                [32, 384, 7, 7]           2,281,824\n",
       "│    │    └─MBConv: 3-44                                [32, 384, 7, 7]           2,281,824\n",
       "│    │    └─MBConv: 3-45                                [32, 384, 7, 7]           2,281,824\n",
       "│    │    └─MBConv: 3-46                                [32, 384, 7, 7]           2,281,824\n",
       "│    │    └─MBConv: 3-47                                [32, 384, 7, 7]           2,281,824\n",
       "│    │    └─MBConv: 3-48                                [32, 384, 7, 7]           2,281,824\n",
       "│    │    └─MBConv: 3-49                                [32, 384, 7, 7]           2,281,824\n",
       "│    │    └─MBConv: 3-50                                [32, 384, 7, 7]           2,281,824\n",
       "│    │    └─MBConv: 3-51                                [32, 384, 7, 7]           2,281,824\n",
       "│    │    └─MBConv: 3-52                                [32, 384, 7, 7]           2,281,824\n",
       "│    │    └─MBConv: 3-53                                [32, 384, 7, 7]           2,281,824\n",
       "│    │    └─MBConv: 3-54                                [32, 384, 7, 7]           2,281,824\n",
       "│    └─Sequential: 2-8                                  [32, 640, 7, 7]           --\n",
       "│    │    └─MBConv: 3-55                                [32, 640, 7, 7]           2,835,296\n",
       "│    │    └─MBConv: 3-56                                [32, 640, 7, 7]           6,199,200\n",
       "│    │    └─MBConv: 3-57                                [32, 640, 7, 7]           6,199,200\n",
       "│    │    └─MBConv: 3-58                                [32, 640, 7, 7]           6,199,200\n",
       "│    └─ConvNormActivation: 2-9                          [32, 2560, 7, 7]          --\n",
       "│    │    └─Conv2d: 3-59                                [32, 2560, 7, 7]          1,638,400\n",
       "│    │    └─BatchNorm2d: 3-60                           [32, 2560, 7, 7]          5,120\n",
       "│    │    └─SiLU: 3-61                                  [32, 2560, 7, 7]          --\n",
       "├─AdaptiveAvgPool2d: 1-2                                [32, 2560, 1, 1]          --\n",
       "├─Sequential: 1-3                                       [32, 1000]                --\n",
       "│    └─Dropout: 2-10                                    [32, 2560]                --\n",
       "│    └─Linear: 2-11                                     [32, 1000]                2,561,000\n",
       "=========================================================================================================\n",
       "Total params: 66,347,960\n",
       "Trainable params: 66,347,960\n",
       "Non-trainable params: 0\n",
       "Total mult-adds (G): 165.45\n",
       "=========================================================================================================\n",
       "Input size (MB): 19.27\n",
       "Forward/backward pass size (MB): 20508.47\n",
       "Params size (MB): 265.39\n",
       "Estimated Total Size (MB): 20793.12\n",
       "========================================================================================================="
      ]
     },
     "execution_count": 5,
     "metadata": {},
     "output_type": "execute_result"
    }
   ],
   "source": [
    "summary(model, (BATCH_SIZE, 3, 224, 224))"
   ]
  },
  {
   "cell_type": "code",
   "execution_count": 6,
   "id": "888cd7bd",
   "metadata": {},
   "outputs": [],
   "source": [
    "transform = transforms.Compose([\n",
    "    transforms.Resize(633),\n",
    "    transforms.CenterCrop(600),\n",
    "    transforms.ToTensor(),\n",
    "    transforms.Normalize(mean=[0.485, 0.456, 0.406], std=[0.229, 0.224, 0.225])\n",
    "])"
   ]
  },
  {
   "cell_type": "code",
   "execution_count": 7,
   "id": "7c5268c6",
   "metadata": {},
   "outputs": [],
   "source": [
    "dataset = torchvision.datasets.ImageNet(root=IMAGENET_DIR, transform=transform, split='val')\n",
    "loader = data.DataLoader(dataset, batch_size=BATCH_SIZE, shuffle=False, num_workers=LOADER_WORKERS)"
   ]
  },
  {
   "cell_type": "code",
   "execution_count": 8,
   "id": "2c05f56d",
   "metadata": {},
   "outputs": [
    {
     "name": "stdout",
     "output_type": "stream",
     "text": [
      "step: 50000/50000\n",
      "top-1:  0.8394\n",
      "top-5:  0.9690\n",
      "Batch Size: 32\n",
      "Total Time: 1453.8046 (0.0291)\n",
      "Average Prediction Time: 0.0309\n"
     ]
    }
   ],
   "source": [
    "n_top1 = 0\n",
    "n_top5 = 0\n",
    "cnt = 0\n",
    "\n",
    "s = time.time()\n",
    "pred_tms = []\n",
    "with torch.no_grad():\n",
    "    for images, labels in loader:\n",
    "\n",
    "        x = images.to(device)\n",
    "        y = labels.to(device)\n",
    "        \n",
    "        ss = time.time()\n",
    "        output = model(x)\n",
    "        pred_tms.append(time.time()-ss)\n",
    "        \n",
    "        cnt += output.size(0)\n",
    "        \n",
    "        _, pred_top1 = output.max(1)\n",
    "        _, pred_top5 = output.topk(5, 1, True, True)\n",
    "        \n",
    "        n_top1 += torch.eq(pred_top1, y).sum().item()\n",
    "        n_top5 += torch.isin(pred_top5, y).max(1)[0].sum().item()\n",
    "\n",
    "        print(f\"\\rstep: {cnt}/{len(dataset)}\", end='')\n",
    "total_tm = time.time() - s\n",
    "print()\n",
    "print(f\"top-1:  {n_top1/cnt:0.4f}\")\n",
    "print(f\"top-5:  {n_top5/cnt:0.4f}\")\n",
    "print(f\"Batch Size: {BATCH_SIZE}\")\n",
    "print(f\"Total Time: {total_tm:0.4f} ({total_tm/len(dataset):0.4f})\")\n",
    "print(f\"Average Prediction Time: {np.mean(pred_tms):0.4f}\")"
   ]
  }
 ],
 "metadata": {
  "kernelspec": {
   "display_name": "tcl",
   "language": "python",
   "name": "tcl"
  },
  "language_info": {
   "codemirror_mode": {
    "name": "ipython",
    "version": 3
   },
   "file_extension": ".py",
   "mimetype": "text/x-python",
   "name": "python",
   "nbconvert_exporter": "python",
   "pygments_lexer": "ipython3",
   "version": "3.8.10"
  }
 },
 "nbformat": 4,
 "nbformat_minor": 5
}
